{
 "cells": [
  {
   "cell_type": "markdown",
   "metadata": {},
   "source": [
    "#### Dependencies"
   ]
  },
  {
   "cell_type": "code",
   "execution_count": null,
   "metadata": {},
   "outputs": [],
   "source": [
    "import yt_dlp as youtube_dl\n",
    "import os\n",
    "import pandas as pd\n",
    "import multiprocessing\n",
    "import os\n",
    "from dotenv import load_dotenv"
   ]
  },
  {
   "cell_type": "markdown",
   "metadata": {},
   "source": [
    "#### Global Constants"
   ]
  },
  {
   "cell_type": "code",
   "execution_count": null,
   "metadata": {},
   "outputs": [],
   "source": [
    "load_dotenv()\n",
    "DOWNLOAD_FOLDER = os.getenv(\"DOWNLOAD_FOLDER\")\n",
    "CPU_THREADS = multiprocessing.cpu_count()"
   ]
  },
  {
   "cell_type": "markdown",
   "metadata": {},
   "source": [
    "#### Data"
   ]
  },
  {
   "cell_type": "code",
   "execution_count": null,
   "metadata": {},
   "outputs": [],
   "source": [
    "songs_data = pd.read_csv(\"data/songs_final.csv\")"
   ]
  },
  {
   "cell_type": "markdown",
   "metadata": {},
   "source": [
    "#### Functions"
   ]
  },
  {
   "cell_type": "code",
   "execution_count": null,
   "metadata": {},
   "outputs": [],
   "source": [
    "def is_song_downloaded(song_filename: str):\n",
    "    files = set(entry.name for entry in os.scandir(DOWNLOAD_FOLDER) if entry.is_file())\n",
    "    return song_filename in files"
   ]
  },
  {
   "cell_type": "code",
   "execution_count": null,
   "metadata": {},
   "outputs": [],
   "source": [
    "# Downloads song from YouTube given videoID\n",
    "# Song filename follows this format: (index)^(video id)^(title).mp3\n",
    "#                               e.g  0^LlWGt_84jpg^Special Breed.mp3\n",
    "def download_song(args):\n",
    "    video_id, video_index = args\n",
    "    video_url = f\"https://www.youtube.com/watch?v={video_id}\"\n",
    "\n",
    "    ydl_opts = {\n",
    "        \"format\": \"bestaudio/best\",\n",
    "        \"postprocessors\": [\n",
    "            {\n",
    "                \"key\": \"FFmpegExtractAudio\",\n",
    "                \"preferredcodec\": \"mp3\",\n",
    "            }\n",
    "        ],\n",
    "        \"outtmpl\": os.path.join(\n",
    "            DOWNLOAD_FOLDER, f\"{video_index}^{video_id}^\" + \"%(title)s.%(ext)s\"\n",
    "        ),\n",
    "        \"quiet\": True,\n",
    "        \"no_warnings\": True,\n",
    "        \"verbose\": False,\n",
    "        \"noplaylist\": True,\n",
    "        \"nocheckcertificate\": True,\n",
    "        \"ignoreerrors\": True,\n",
    "        \"retries\": 3,\n",
    "        \"continuedl\": True,\n",
    "        \"max_filesize\": 10 * 1024 * 1024,\n",
    "    }\n",
    "\n",
    "    with youtube_dl.YoutubeDL(ydl_opts) as ydl:\n",
    "        try:\n",
    "            info_dict = ydl.extract_info(video_url, download=False)\n",
    "            title = info_dict.get(\"title\", None)\n",
    "            song_filename = f\"{video_index}^{video_id}^{title}.mp3\"\n",
    "\n",
    "            if is_song_downloaded(song_filename):\n",
    "                return\n",
    "\n",
    "            ydl.download([video_url])\n",
    "        except Exception as e:\n",
    "            print(f\"YDL ERROR: {e}, videoID: {video_id}\")\n",
    "            return\n",
    "\n",
    "    song_path = os.path.join(DOWNLOAD_FOLDER, song_filename)\n",
    "    return song_path"
   ]
  },
  {
   "cell_type": "code",
   "execution_count": null,
   "metadata": {},
   "outputs": [],
   "source": [
    "def download_songs_parallel(songs_data, lower, upper):\n",
    "    video_ids = songs_data[\"videoID\"].to_numpy()[lower:upper]\n",
    "    video_indices = list(range(lower, upper))\n",
    "\n",
    "    args = list(zip(video_ids, video_indices))\n",
    "\n",
    "    with multiprocessing.Pool(CPU_THREADS) as pool:\n",
    "        pool.map(download_song, args)"
   ]
  },
  {
   "cell_type": "code",
   "execution_count": null,
   "metadata": {},
   "outputs": [],
   "source": [
    "download_songs_parallel(songs_data, 0, len(songs_data))"
   ]
  }
 ],
 "metadata": {
  "kernelspec": {
   "display_name": "Python 3",
   "language": "python",
   "name": "python3"
  },
  "language_info": {
   "codemirror_mode": {
    "name": "ipython",
    "version": 3
   },
   "file_extension": ".py",
   "mimetype": "text/x-python",
   "name": "python",
   "nbconvert_exporter": "python",
   "pygments_lexer": "ipython3",
   "version": "3.10.12"
  }
 },
 "nbformat": 4,
 "nbformat_minor": 2
}
