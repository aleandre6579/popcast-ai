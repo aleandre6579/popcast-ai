{
 "cells": [
  {
   "cell_type": "markdown",
   "id": "f6c19fee",
   "metadata": {},
   "source": [
    "#### Dependencies"
   ]
  },
  {
   "cell_type": "code",
   "execution_count": 27,
   "id": "c24d98cf",
   "metadata": {},
   "outputs": [],
   "source": [
    "import os\n",
    "import numpy as np\n",
    "import matplotlib.pyplot as plt\n",
    "import pandas as pd\n",
    "import librosa\n",
    "import time\n",
    "import multiprocessing\n",
    "from dotenv import load_dotenv\n",
    "from tqdm import tqdm\n",
    "\n",
    "from essentia.standard import (\n",
    "    MonoLoader,\n",
    "    Danceability,\n",
    "    Spectrum,\n",
    "    FrameCutter,\n",
    "    Loudness,\n",
    "    RhythmExtractor2013,\n",
    "    KeyExtractor,\n",
    "    Energy,\n",
    "    TonalExtractor,\n",
    "    Inharmonicity,\n",
    "    MFCC,\n",
    "    OnsetRate,\n",
    "    SpectralCentroidTime,\n",
    "    DynamicComplexity,\n",
    "    SpectralPeaks,\n",
    "    NoveltyCurve,\n",
    "    Spectrum,\n",
    "    FrameGenerator,\n",
    "    Windowing,\n",
    "    MelBands,\n",
    "    BeatsLoudness,\n",
    "    Beatogram,\n",
    "    Meter,\n",
    ")"
   ]
  },
  {
   "cell_type": "markdown",
   "id": "7c08a118",
   "metadata": {},
   "source": [
    "#### Global Constants"
   ]
  },
  {
   "cell_type": "code",
   "execution_count": 28,
   "id": "b02b744d",
   "metadata": {},
   "outputs": [],
   "source": [
    "load_dotenv()\n",
    "DOWNLOAD_FOLDER = os.getenv('DOWNLOAD_FOLDER')\n",
    "CPU_THREADS = multiprocessing.cpu_count()"
   ]
  },
  {
   "cell_type": "markdown",
   "id": "cab3098f",
   "metadata": {},
   "source": [
    "#### Data"
   ]
  },
  {
   "cell_type": "code",
   "execution_count": 29,
   "id": "beee6bea",
   "metadata": {},
   "outputs": [],
   "source": [
    "songs_data = pd.read_csv('data/songs_final.csv')"
   ]
  },
  {
   "cell_type": "markdown",
   "id": "7f582f3b",
   "metadata": {},
   "source": [
    "#### Feature Extraction Functions"
   ]
  },
  {
   "cell_type": "code",
   "execution_count": 30,
   "id": "c4973e2c",
   "metadata": {},
   "outputs": [],
   "source": [
    "def create_spectrogram_image(spectrogram_db, sample_rate):\n",
    "    plt.figure(figsize=(10, 4))\n",
    "    librosa.display.specshow(spectrogram_db, sr=sample_rate, x_axis='time', y_axis='mel', fmax=11025)\n",
    "    plt.colorbar(format='%+2.0f dB')\n",
    "    plt.title(f\"Mel-Spectrogram\")\n",
    "    plt.tight_layout()\n",
    "    plt.show()\n",
    "    plt.close()"
   ]
  },
  {
   "cell_type": "code",
   "execution_count": 31,
   "id": "4a0093f9",
   "metadata": {},
   "outputs": [],
   "source": [
    "def mp3_to_spectrogram(audio_path, sample_rate, create_image=False):\n",
    "    mp3, _ = librosa.load(audio_path, sr=sample_rate)\n",
    "    spectrogram = librosa.feature.melspectrogram(y=mp3, sr=sample_rate, n_mels=128, fmax=11025)\n",
    "    spectrogram_db = librosa.power_to_db(spectrogram, ref=np.max)\n",
    "\n",
    "    if create_image:\n",
    "        create_spectrogram_image(spectrogram_db, sample_rate)\n",
    "\n",
    "    return spectrogram_db"
   ]
  },
  {
   "cell_type": "code",
   "execution_count": 32,
   "id": "cd147c6d",
   "metadata": {},
   "outputs": [],
   "source": [
    "def get_mel_bands(audio):\n",
    "    spectrum = Spectrum()\n",
    "    frame_generator = FrameGenerator(audio, frameSize=2048, hopSize=1024)\n",
    "    window = Windowing(type='hann')\n",
    "\n",
    "    mel_bands = MelBands(numberBands=40)\n",
    "    mel_band_energies = []\n",
    "\n",
    "    for frame in frame_generator:\n",
    "        spec = spectrum(window(frame))\n",
    "        mel_band_energies.append(mel_bands(spec))\n",
    "\n",
    "    mel_band_energies = np.array(mel_band_energies)\n",
    "    return mel_band_energies"
   ]
  },
  {
   "cell_type": "code",
   "execution_count": 33,
   "id": "9d555c4b",
   "metadata": {},
   "outputs": [],
   "source": [
    "def run_essentia_algorithms(audio44k, audio16k):\n",
    "    _, mfcc_coeffs = MFCC(inputSize=len(audio16k))(audio16k)\n",
    "    danceability_score = Danceability()(audio44k)\n",
    "    loudness_score = Loudness()(audio16k)\n",
    "    bpm, beat_positions, _, _, _ = RhythmExtractor2013(method=\"multifeature\")(audio44k)\n",
    "    key, scale, _ = KeyExtractor()(audio44k)\n",
    "    energy_score = Energy()(audio16k)\n",
    "\n",
    "    ### Chord Significances\n",
    "    _, _, _, _, chords, _, _, _, _, _, _, _ = TonalExtractor()(audio44k)\n",
    "    unique_chords, counts = np.unique(chords, return_counts=True)\n",
    "    chords_significance = {chord: significance for (chord, significance) in zip(unique_chords, counts)}\n",
    "\n",
    "    ### Inharmonicity\n",
    "    frames = []\n",
    "    frameCutter = FrameCutter()\n",
    "    while True:\n",
    "        frame = frameCutter(audio44k)\n",
    "        if not len(frame):\n",
    "            break\n",
    "        frames.append(frame)\n",
    "        \n",
    "    spectrum_magnitudes = []\n",
    "    for frame in frames:\n",
    "        spectrum_magnitudes_frame = Spectrum()(frame)\n",
    "        spectrum_magnitudes.append(spectrum_magnitudes_frame)\n",
    "    spectrum_magnitudes = np.array(spectrum_magnitudes).flatten()\n",
    "    \n",
    "    frequencies, magnitudes = SpectralPeaks()(audio44k)\n",
    "    hnr_score = None\n",
    "    if frequencies[0]: \n",
    "        hnr_score = Inharmonicity()(frequencies, magnitudes)\n",
    "    ###\n",
    "    \n",
    "    onset_rate_score = OnsetRate()(audio44k)\n",
    "    brightness_score = SpectralCentroidTime()(audio44k)\n",
    "    dynamic_complexity_score, _ = DynamicComplexity()(audio16k)\n",
    "    \n",
    "    mel_bands = get_mel_bands(audio44k)\n",
    "    novelty_curve = NoveltyCurve()(mel_bands)\n",
    "    novelty_score = np.median(np.abs(np.diff(novelty_curve)))\n",
    "    \n",
    "    beats_loudness, beats_loudness_band_ratio = BeatsLoudness(beats=beat_positions)(audio44k)\n",
    "    beatogram = Beatogram()(beats_loudness, beats_loudness_band_ratio)\n",
    "    time_signature = Meter()(beatogram)\n",
    "    \n",
    "    features = {\n",
    "        'Danceability': danceability_score[0],\n",
    "        'Loudness': loudness_score,\n",
    "        'BPM': bpm,\n",
    "        'Key': key,\n",
    "        'Key Scale': scale,\n",
    "        'Energy': energy_score,\n",
    "        'Chords Significance': chords_significance,\n",
    "        'Inharmonicity': hnr_score,\n",
    "        'Timbre': np.mean(mfcc_coeffs),\n",
    "        'Onset Rate': onset_rate_score[1],\n",
    "        'Brightness': brightness_score,\n",
    "        'Dynamic Complexity': dynamic_complexity_score,\n",
    "        'Novelty': novelty_score,\n",
    "        'Time Signature': time_signature,\n",
    "    }\n",
    "    return features"
   ]
  },
  {
   "cell_type": "code",
   "execution_count": 34,
   "id": "e934df81",
   "metadata": {},
   "outputs": [],
   "source": [
    "def extract_audio_features(audio_file):\n",
    "    # Load the audio file\n",
    "    audio44k = MonoLoader(filename=audio_file)()\n",
    "    audio16k = MonoLoader(filename=audio_file, sampleRate=16000)()\n",
    "\n",
    "    # Run algorithms\n",
    "    algorithm_features = run_essentia_algorithms(audio44k, audio16k)\n",
    "    spectrogram = mp3_to_spectrogram(audio_file, 22050)\n",
    "\n",
    "    # Merge results\n",
    "    features = algorithm_features | {'Spectrogram': spectrogram}\n",
    "    return features"
   ]
  },
  {
   "cell_type": "markdown",
   "id": "9236a2bf",
   "metadata": {},
   "source": [
    "#### Main Code"
   ]
  },
  {
   "cell_type": "code",
   "execution_count": 35,
   "id": "d9eda839",
   "metadata": {},
   "outputs": [],
   "source": [
    "# Class constructed from song path\n",
    "# Song path must follow this format: /some/path/(int)^(video id)^(title).mp3\n",
    "#                               e.g  /some/path/0^LlWGt_84jpg^Special Breed.mp3\n",
    "class SongPath:\n",
    "    def __init__(self, song_path: str):\n",
    "        self.path = song_path\n",
    "        self.filename = os.path.basename(song_path)\n",
    "\n",
    "        song_filename_split = self.filename.split('^')\n",
    "        if len(song_filename_split) != 3:\n",
    "            raise Exception(\"The song's filename doesn't follow the correct format: /some/path/(int)^(video id)^(title).mp3\")\n",
    "        \n",
    "        self.index, self.video_id, self.title_with_extension = song_filename_split\n",
    "\n",
    "        self.index = int(self.index)\n",
    "        self.title = os.path.splitext(self.title_with_extension)[0]\n",
    "\n",
    "    def __str__(self):\n",
    "        return f\"Idx: {self.index},  videoID: {self.video_id}, title: {self.title_with_extension}\""
   ]
  },
  {
   "cell_type": "code",
   "execution_count": null,
   "id": "bb48d1f4",
   "metadata": {},
   "outputs": [],
   "source": [
    "def process_song(args):\n",
    "    song_path, _ = args\n",
    "    song = SongPath(song_path)\n",
    "\n",
    "    song_features = extract_audio_features(song.path)\n",
    "    return song.index, song_features"
   ]
  },
  {
   "cell_type": "code",
   "execution_count": 38,
   "id": "e6b6851f",
   "metadata": {},
   "outputs": [
    {
     "ename": "",
     "evalue": "",
     "output_type": "error",
     "traceback": [
      "\u001b[1;31mThe Kernel crashed while executing code in the current cell or a previous cell. \n",
      "\u001b[1;31mPlease review the code in the cell(s) to identify a possible cause of the failure. \n",
      "\u001b[1;31mClick <a href='https://aka.ms/vscodeJupyterKernelCrash'>here</a> for more info. \n",
      "\u001b[1;31mView Jupyter <a href='command:jupyter.viewOutput'>log</a> for further details."
     ]
    }
   ],
   "source": [
    "def process_songs():\n",
    "    songs_data_full = songs_data.copy(deep=True)\n",
    "    song_paths = [os.path.join(DOWNLOAD_FOLDER, song_filename) for song_filename in os.listdir(DOWNLOAD_FOLDER)]\n",
    "\n",
    "    songs_data_lower, songs_data_higher = [0, len(songs_data)//4]\n",
    "    song_paths = song_paths[songs_data_lower:songs_data_higher]\n",
    "    \n",
    "    with multiprocessing.Pool(CPU_THREADS) as pool:\n",
    "        results = list(tqdm(pool.imap(process_song, [(song_path, None) for song_path in song_paths]), total=len(song_paths)))\n",
    "\n",
    "    # Aggregate results in the pandas dataframe\n",
    "    for song_index, song_features in results:\n",
    "        for feature, value in song_features.items():\n",
    "            if feature not in songs_data_full.columns and isinstance(value, (tuple, set, list, np.ndarray, dict)):\n",
    "                songs_data_full[feature] = np.nan\n",
    "                songs_data_full[feature] = songs_data_full[feature].astype(object)\n",
    "            songs_data_full.at[song_index, feature] = value\n",
    "\n",
    "    return songs_data_full"
   ]
  },
  {
   "cell_type": "code",
   "execution_count": null,
   "id": "37ecca37",
   "metadata": {},
   "outputs": [
    {
     "name": "stderr",
     "output_type": "stream",
     "text": [
      "  3%|▎         | 641/25261 [37:05<22:28:26,  3.29s/it]"
     ]
    }
   ],
   "source": [
    "songs_data_full = process_songs()\n",
    "songs_data_full"
   ]
  },
  {
   "cell_type": "code",
   "execution_count": null,
   "id": "bf78d901",
   "metadata": {},
   "outputs": [],
   "source": [
    "songs_data_full.to_csv('data/songs_data_full_1.csv', index=True)"
   ]
  }
 ],
 "metadata": {
  "kaggle": {
   "accelerator": "none",
   "dataSources": [
    {
     "datasetId": 5807643,
     "sourceId": 9535353,
     "sourceType": "datasetVersion"
    },
    {
     "datasetId": 5843102,
     "sourceId": 9582418,
     "sourceType": "datasetVersion"
    },
    {
     "modelId": 131168,
     "modelInstanceId": 106837,
     "sourceId": 126903,
     "sourceType": "modelInstanceVersion"
    },
    {
     "modelId": 133887,
     "modelInstanceId": 109590,
     "sourceId": 130047,
     "sourceType": "modelInstanceVersion"
    },
    {
     "isSourceIdPinned": true,
     "modelId": 133915,
     "modelInstanceId": 109618,
     "sourceId": 130080,
     "sourceType": "modelInstanceVersion"
    }
   ],
   "dockerImageVersionId": 30775,
   "isGpuEnabled": false,
   "isInternetEnabled": true,
   "language": "python",
   "sourceType": "notebook"
  },
  "kernelspec": {
   "display_name": ".venv",
   "language": "python",
   "name": "python3"
  },
  "language_info": {
   "codemirror_mode": {
    "name": "ipython",
    "version": 3
   },
   "file_extension": ".py",
   "mimetype": "text/x-python",
   "name": "python",
   "nbconvert_exporter": "python",
   "pygments_lexer": "ipython3",
   "version": "3.10.12"
  }
 },
 "nbformat": 4,
 "nbformat_minor": 5
}
