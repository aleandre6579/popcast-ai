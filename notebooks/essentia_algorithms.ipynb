{
 "cells": [
  {
   "cell_type": "markdown",
   "id": "f6c19fee",
   "metadata": {},
   "source": [
    "#### Dependencies"
   ]
  },
  {
   "cell_type": "code",
   "execution_count": 48,
   "id": "c24d98cf",
   "metadata": {},
   "outputs": [],
   "source": [
    "import os\n",
    "import numpy as np\n",
    "import matplotlib.pyplot as plt\n",
    "import pandas as pd\n",
    "import librosa\n",
    "import time\n",
    "import multiprocessing as mp\n",
    "from dotenv import load_dotenv\n",
    "from tqdm.notebook import tqdm\n",
    "import sys\n",
    "from contextlib import closing\n",
    "import psutil\n",
    "import tracemalloc\n",
    "import threading\n",
    "import gc\n",
    "\n",
    "from essentia.standard import (\n",
    "    MonoLoader,\n",
    "    Danceability,\n",
    "    Spectrum,\n",
    "    FrameCutter,\n",
    "    Loudness,\n",
    "    RhythmExtractor2013,\n",
    "    KeyExtractor,\n",
    "    Energy,\n",
    "    TonalExtractor,\n",
    "    Inharmonicity,\n",
    "    MFCC,\n",
    "    OnsetRate,\n",
    "    SpectralCentroidTime,\n",
    "    DynamicComplexity,\n",
    "    SpectralPeaks,\n",
    "    NoveltyCurve,\n",
    "    Spectrum,\n",
    "    FrameGenerator,\n",
    "    Windowing,\n",
    "    MelBands,\n",
    "    BeatsLoudness,\n",
    "    Beatogram,\n",
    "    Meter,\n",
    ")"
   ]
  },
  {
   "cell_type": "markdown",
   "id": "7c08a118",
   "metadata": {},
   "source": [
    "#### Global Constants"
   ]
  },
  {
   "cell_type": "code",
   "execution_count": 49,
   "id": "b02b744d",
   "metadata": {},
   "outputs": [],
   "source": [
    "load_dotenv()\n",
    "DOWNLOAD_FOLDER = os.getenv('DOWNLOAD_FOLDER')\n",
    "CPU_THREADS = int(os.getenv('CPU_THREADS'))"
   ]
  },
  {
   "cell_type": "code",
   "execution_count": null,
   "id": "381d3cc8",
   "metadata": {},
   "outputs": [],
   "source": []
  },
  {
   "cell_type": "markdown",
   "id": "cab3098f",
   "metadata": {},
   "source": [
    "#### Data"
   ]
  },
  {
   "cell_type": "code",
   "execution_count": 50,
   "id": "beee6bea",
   "metadata": {},
   "outputs": [],
   "source": [
    "songs_data = pd.read_csv('data/songs_final.csv')"
   ]
  },
  {
   "cell_type": "markdown",
   "id": "7f582f3b",
   "metadata": {},
   "source": [
    "#### Feature Extraction Functions"
   ]
  },
  {
   "cell_type": "code",
   "execution_count": 51,
   "id": "c4973e2c",
   "metadata": {},
   "outputs": [],
   "source": [
    "def create_spectrogram_image(spectrogram_db, sample_rate):\n",
    "    plt.figure(figsize=(10, 4))\n",
    "    librosa.display.specshow(spectrogram_db, sr=sample_rate, x_axis='time', y_axis='mel', fmax=11025)\n",
    "    plt.colorbar(format='%+2.0f dB')\n",
    "    plt.title(f\"Mel-Spectrogram\")\n",
    "    plt.tight_layout()\n",
    "    plt.show()\n",
    "    plt.close()"
   ]
  },
  {
   "cell_type": "code",
   "execution_count": 52,
   "id": "4a0093f9",
   "metadata": {},
   "outputs": [],
   "source": [
    "def mp3_to_spectrogram(audio_path, sample_rate, create_image=False):\n",
    "    mp3, _ = librosa.load(audio_path, sr=sample_rate)\n",
    "    spectrogram = librosa.feature.melspectrogram(y=mp3, sr=sample_rate, n_mels=128, fmax=11025)\n",
    "    spectrogram_db = librosa.power_to_db(spectrogram, ref=np.max)\n",
    "\n",
    "    if create_image:\n",
    "        create_spectrogram_image(spectrogram_db, sample_rate)\n",
    "\n",
    "    return spectrogram_db"
   ]
  },
  {
   "cell_type": "code",
   "execution_count": 53,
   "id": "cd147c6d",
   "metadata": {},
   "outputs": [],
   "source": [
    "def get_mel_bands(audio):\n",
    "    spectrum = Spectrum()\n",
    "    frame_generator = FrameGenerator(audio, frameSize=2048, hopSize=1024)\n",
    "    window = Windowing(type='hann')\n",
    "\n",
    "    mel_bands = MelBands(numberBands=40)\n",
    "    mel_band_energies = []\n",
    "\n",
    "    for frame in frame_generator:\n",
    "        spec = spectrum(window(frame))\n",
    "        mel_band_energies.append(mel_bands(spec))\n",
    "\n",
    "    mel_band_energies = np.array(mel_band_energies)\n",
    "\n",
    "    return mel_band_energies"
   ]
  },
  {
   "cell_type": "code",
   "execution_count": 54,
   "id": "9d555c4b",
   "metadata": {},
   "outputs": [],
   "source": [
    "def run_essentia_algorithms(audio44k, audio16k):\n",
    "    _, mfcc_coeffs = MFCC(inputSize=len(audio16k))(audio16k)\n",
    "    danceability_score = Danceability()(audio44k)\n",
    "    loudness_score = Loudness()(audio16k)\n",
    "    bpm, beat_positions, _, _, _ = RhythmExtractor2013(method=\"multifeature\")(audio44k)\n",
    "    key, scale, _ = KeyExtractor()(audio44k)\n",
    "    energy_score = Energy()(audio16k)\n",
    "\n",
    "    ### Chord Significances\n",
    "    _, _, _, _, chords, _, _, _, _, _, _, _ = TonalExtractor()(audio44k)\n",
    "    unique_chords, counts = np.unique(chords, return_counts=True)\n",
    "    chords_significance = {chord: significance for (chord, significance) in zip(unique_chords, counts)}\n",
    "\n",
    "    ### Inharmonicity\n",
    "    frames = []\n",
    "    frameCutter = FrameCutter()\n",
    "    while True:\n",
    "        frame = frameCutter(audio44k)\n",
    "        if not len(frame):\n",
    "            break\n",
    "        frames.append(frame)\n",
    "        \n",
    "    spectrum_magnitudes = []\n",
    "    for frame in frames:\n",
    "        spectrum_magnitudes_frame = Spectrum()(frame)\n",
    "        spectrum_magnitudes.append(spectrum_magnitudes_frame)\n",
    "    spectrum_magnitudes = np.array(spectrum_magnitudes).flatten()\n",
    "    \n",
    "    frequencies, magnitudes = SpectralPeaks()(audio44k)\n",
    "    hnr_score = None\n",
    "    if len(frequencies) > 0 and frequencies[0]: \n",
    "        hnr_score = Inharmonicity()(frequencies, magnitudes)\n",
    "    ###\n",
    "    \n",
    "    onset_rate_score = OnsetRate()(audio44k)\n",
    "    brightness_score = SpectralCentroidTime()(audio44k)\n",
    "    dynamic_complexity_score, _ = DynamicComplexity()(audio16k)\n",
    "    \n",
    "    mel_bands = get_mel_bands(audio44k)\n",
    "    novelty_curve = NoveltyCurve()(mel_bands)\n",
    "    novelty_score = np.median(np.abs(np.diff(novelty_curve)))\n",
    "    \n",
    "    beats_loudness, beats_loudness_band_ratio = BeatsLoudness(beats=beat_positions)(audio44k)\n",
    "    beatogram = Beatogram()(beats_loudness, beats_loudness_band_ratio)\n",
    "    time_signature = Meter()(beatogram)\n",
    "\n",
    "    features = {\n",
    "        'Danceability': danceability_score[0],\n",
    "        'Loudness': loudness_score,\n",
    "        'BPM': bpm,\n",
    "        'Key': key,\n",
    "        'Key Scale': scale,\n",
    "        'Energy': energy_score,\n",
    "        'Chords Significance': chords_significance,\n",
    "        'Inharmonicity': hnr_score,\n",
    "        'Timbre': np.mean(mfcc_coeffs),\n",
    "        'Onset Rate': onset_rate_score[1],\n",
    "        'Brightness': brightness_score,\n",
    "        'Dynamic Complexity': dynamic_complexity_score,\n",
    "        'Novelty': novelty_score,\n",
    "        'Time Signature': time_signature,\n",
    "    }\n",
    "\n",
    "    return features"
   ]
  },
  {
   "cell_type": "code",
   "execution_count": 55,
   "id": "e934df81",
   "metadata": {},
   "outputs": [],
   "source": [
    "def extract_audio_features(audio_file):\n",
    "    # Load the audio file\n",
    "    audio44k = MonoLoader(filename=audio_file)()\n",
    "    audio16k = MonoLoader(filename=audio_file, sampleRate=16000)()\n",
    "\n",
    "    # Run algorithms\n",
    "    algorithm_features = run_essentia_algorithms(audio44k, audio16k)\n",
    "\n",
    "    # Merge results\n",
    "    return algorithm_features"
   ]
  },
  {
   "cell_type": "markdown",
   "id": "fe4b83ac",
   "metadata": {},
   "source": [
    "#### Util Functions"
   ]
  },
  {
   "cell_type": "code",
   "execution_count": 56,
   "id": "29776302",
   "metadata": {},
   "outputs": [],
   "source": [
    "def get_total_memory_usage(process):\n",
    "    memory_summary = {f'Process {process.pid}': process.memory_info().rss / (1024 * 1024)}\n",
    "    for child in process.children(recursive=True):\n",
    "        memory_summary = memory_summary | {f'Child Process {child.pid}': child.memory_info().rss / (1024 * 1024)}\n",
    "    return memory_summary\n",
    "\n",
    "def print_memory_usage(process):\n",
    "    print(get_total_memory_usage(process))\n",
    "    snapshot = tracemalloc.take_snapshot()\n",
    "    print(f\"Top Consumer of Process {process.pid}: {snapshot.statistics('lineno')[0]}\")\n",
    "\n",
    "def monitor_memory_usage(process, kill_thread, interval=120):\n",
    "    while True:\n",
    "        try:\n",
    "            if kill_thread.value:\n",
    "                print(\"MONITOR THREAD KILLED\")\n",
    "                return\n",
    "            print_memory_usage(process)\n",
    "        except Exception as e:\n",
    "            print(f\"Thread ERROR: {e}\")\n",
    "            return\n",
    "        time.sleep(interval)"
   ]
  },
  {
   "cell_type": "markdown",
   "id": "9236a2bf",
   "metadata": {},
   "source": [
    "#### Main Code"
   ]
  },
  {
   "cell_type": "code",
   "execution_count": 57,
   "id": "d9eda839",
   "metadata": {},
   "outputs": [],
   "source": [
    "# Class constructed from song path\n",
    "# Song path must follow this format: /some/path/(int)^(video id)^(title).mp3\n",
    "#                               e.g  /some/path/0^LlWGt_84jpg^Special Breed.mp3\n",
    "class SongPath:\n",
    "    def __init__(self, song_path: str):\n",
    "        self.path = song_path\n",
    "        self.filename = os.path.basename(song_path)\n",
    "\n",
    "        song_filename_split = self.filename.split('^')\n",
    "        if len(song_filename_split) != 3:\n",
    "            raise Exception(\"The song's filename doesn't follow the correct format: /some/path/(int)^(video id)^(title).mp3\")\n",
    "        \n",
    "        self.index, self.video_id, self.title_with_extension = song_filename_split\n",
    "\n",
    "        self.index = int(self.index)\n",
    "        self.title = os.path.splitext(self.title_with_extension)[0]\n",
    "\n",
    "    def __str__(self):\n",
    "        return f\"Idx: {self.index},  videoID: {self.video_id}, title: {self.title_with_extension}\""
   ]
  },
  {
   "cell_type": "code",
   "execution_count": null,
   "id": "9a437863",
   "metadata": {},
   "outputs": [],
   "source": [
    "def process_song(args):\n",
    "    song_path, song_results = args\n",
    "    song = SongPath(song_path)\n",
    "    song_features = extract_audio_features(song.path)\n",
    "    song_results.append((song.index, song_features))"
   ]
  },
  {
   "cell_type": "code",
   "execution_count": null,
   "id": "d0ddfde7",
   "metadata": {},
   "outputs": [],
   "source": [
    "def process_songs():                   \n",
    "    tracemalloc.start()\n",
    "\n",
    "    song_paths = np.array([os.path.join(DOWNLOAD_FOLDER, song_filename) for song_filename in os.listdir(DOWNLOAD_FOLDER)])\n",
    "\n",
    "    songs_data_lower, songs_data_higher = [len(song_paths)//6*2, len(song_paths)//6*4]\n",
    "    song_paths = song_paths[songs_data_lower:songs_data_higher]\n",
    "    \n",
    "    with mp.Manager() as manager:\n",
    "        kill_thread = manager.Value('b', False)\n",
    "        shared_song_results = manager.list()\n",
    "\n",
    "        main_process = psutil.Process(os.getpid())\n",
    "        memory_thread = threading.Thread(target=monitor_memory_usage, args=(main_process, kill_thread))\n",
    "        memory_thread.start()\n",
    "        \n",
    "        with mp.Pool(processes=CPU_THREADS, maxtasksperchild=40) as pool:\n",
    "            with tqdm(total=len(song_paths), desc=\"Processing songs\") as pbar:\n",
    "                args = [(song_path, shared_song_results) for song_path in song_paths]\n",
    "                try:\n",
    "                    for _ in pool.imap(process_song, args, chunksize=1):\n",
    "                        pbar.update(1)\n",
    "                except Exception as e:\n",
    "                    print(e)\n",
    "                    \n",
    "        kill_thread.value = True\n",
    "        song_results = list(shared_song_results)\n",
    "\n",
    "    # Aggregate results in the pandas dataframe\n",
    "    songs_data_full = songs_data.copy(deep=True)\n",
    "    for song_index, song_features in song_results:\n",
    "        for feature, value in song_features.items():\n",
    "            if feature not in songs_data_full.columns and isinstance(value, (tuple, set, list, np.ndarray, dict)):\n",
    "                songs_data_full[feature] = np.nan\n",
    "                songs_data_full[feature] = songs_data_full[feature].astype(object)\n",
    "            songs_data_full.at[song_index, feature] = value\n",
    "\n",
    "    return songs_data_full"
   ]
  },
  {
   "cell_type": "code",
   "execution_count": 61,
   "id": "37ecca37",
   "metadata": {},
   "outputs": [
    {
     "name": "stdout",
     "output_type": "stream",
     "text": [
      "Main Process ID: 9865\n"
     ]
    },
    {
     "data": {
      "application/vnd.jupyter.widget-view+json": {
       "model_id": "cf2acfa2efe84fec8056563f3474bb8c",
       "version_major": 2,
       "version_minor": 0
      },
      "text/plain": [
       "Processing songs:   0%|          | 0/4 [00:00<?, ?it/s]"
      ]
     },
     "metadata": {},
     "output_type": "display_data"
    },
    {
     "name": "stdout",
     "output_type": "stream",
     "text": [
      "{'Process 9865': 642.03515625, 'Child Process 12225': 597.0625, 'Child Process 12236': 603.04296875, 'Child Process 12239': 599.65234375}\n",
      "Top Consumer of Process 9865: /tmp/ipykernel_9865/1984634019.py:4: size=110 MiB, count=8, average=13.8 MiB\n",
      "OH NO\n"
     ]
    },
    {
     "name": "stdout",
     "output_type": "stream",
     "text": [
      "Thread ERROR: [Errno 32] Broken pipe\n"
     ]
    }
   ],
   "source": [
    "songs_data_full = process_songs()"
   ]
  },
  {
   "cell_type": "code",
   "execution_count": 62,
   "id": "9c6cdc28",
   "metadata": {},
   "outputs": [],
   "source": [
    "songs_data_full.to_csv('data/songs_data_full_4.csv')"
   ]
  },
  {
   "cell_type": "code",
   "execution_count": 63,
   "id": "7956c891",
   "metadata": {},
   "outputs": [
    {
     "data": {
      "text/html": [
       "<div>\n",
       "<style scoped>\n",
       "    .dataframe tbody tr th:only-of-type {\n",
       "        vertical-align: middle;\n",
       "    }\n",
       "\n",
       "    .dataframe tbody tr th {\n",
       "        vertical-align: top;\n",
       "    }\n",
       "\n",
       "    .dataframe thead th {\n",
       "        text-align: right;\n",
       "    }\n",
       "</style>\n",
       "<table border=\"1\" class=\"dataframe\">\n",
       "  <thead>\n",
       "    <tr style=\"text-align: right;\">\n",
       "      <th></th>\n",
       "      <th>title</th>\n",
       "      <th>artist</th>\n",
       "      <th>views</th>\n",
       "      <th>videoID</th>\n",
       "      <th>duration</th>\n",
       "      <th>Danceability</th>\n",
       "      <th>Loudness</th>\n",
       "      <th>BPM</th>\n",
       "      <th>Key</th>\n",
       "      <th>Key Scale</th>\n",
       "      <th>Energy</th>\n",
       "      <th>Chords Significance</th>\n",
       "      <th>Inharmonicity</th>\n",
       "      <th>Timbre</th>\n",
       "      <th>Onset Rate</th>\n",
       "      <th>Brightness</th>\n",
       "      <th>Dynamic Complexity</th>\n",
       "      <th>Novelty</th>\n",
       "      <th>Time Signature</th>\n",
       "    </tr>\n",
       "  </thead>\n",
       "  <tbody>\n",
       "    <tr>\n",
       "      <th>0</th>\n",
       "      <td>Special Breed</td>\n",
       "      <td>PolyCulture</td>\n",
       "      <td>34</td>\n",
       "      <td>LlWGt_84jpg</td>\n",
       "      <td>331</td>\n",
       "      <td>1.365855</td>\n",
       "      <td>5662.711426</td>\n",
       "      <td>128.004791</td>\n",
       "      <td>F</td>\n",
       "      <td>minor</td>\n",
       "      <td>399511.093750</td>\n",
       "      <td>{'A': 1368, 'Ab': 44, 'Am': 1210, 'C': 363, 'C...</td>\n",
       "      <td>0.288343</td>\n",
       "      <td>-19.498598</td>\n",
       "      <td>4.381480</td>\n",
       "      <td>1235.493164</td>\n",
       "      <td>4.430042</td>\n",
       "      <td>176.945801</td>\n",
       "      <td>4.0</td>\n",
       "    </tr>\n",
       "    <tr>\n",
       "      <th>100000</th>\n",
       "      <td>Gris</td>\n",
       "      <td>J Balvin</td>\n",
       "      <td>11657594</td>\n",
       "      <td>5XkHKg2Vr0M</td>\n",
       "      <td>177</td>\n",
       "      <td>1.656689</td>\n",
       "      <td>3484.364990</td>\n",
       "      <td>92.989853</td>\n",
       "      <td>F#</td>\n",
       "      <td>minor</td>\n",
       "      <td>193531.453125</td>\n",
       "      <td>{'A': 277, 'Ab': 32, 'Abm': 57, 'Am': 13, 'B':...</td>\n",
       "      <td>0.237590</td>\n",
       "      <td>-16.540997</td>\n",
       "      <td>4.217937</td>\n",
       "      <td>1637.857544</td>\n",
       "      <td>3.100346</td>\n",
       "      <td>4340.726562</td>\n",
       "      <td>4.0</td>\n",
       "    </tr>\n",
       "    <tr>\n",
       "      <th>100001</th>\n",
       "      <td>La Cumbia Tribalera (feat. La Trakalosa &amp; Viol...</td>\n",
       "      <td>El Pelon del Mikrophone</td>\n",
       "      <td>11657063</td>\n",
       "      <td>M_A58j6A-hg</td>\n",
       "      <td>218</td>\n",
       "      <td>1.347551</td>\n",
       "      <td>3015.341064</td>\n",
       "      <td>133.968338</td>\n",
       "      <td>F</td>\n",
       "      <td>minor</td>\n",
       "      <td>155969.375000</td>\n",
       "      <td>{'A': 44, 'Ab': 141, 'Abm': 17, 'Am': 45, 'B':...</td>\n",
       "      <td>0.319716</td>\n",
       "      <td>-18.797167</td>\n",
       "      <td>5.190122</td>\n",
       "      <td>2116.453613</td>\n",
       "      <td>3.823609</td>\n",
       "      <td>4538.546875</td>\n",
       "      <td>2.0</td>\n",
       "    </tr>\n",
       "  </tbody>\n",
       "</table>\n",
       "</div>"
      ],
      "text/plain": [
       "                                                    title  \\\n",
       "0                                           Special Breed   \n",
       "100000                                               Gris   \n",
       "100001  La Cumbia Tribalera (feat. La Trakalosa & Viol...   \n",
       "\n",
       "                         artist     views      videoID  duration  \\\n",
       "0                   PolyCulture        34  LlWGt_84jpg       331   \n",
       "100000                 J Balvin  11657594  5XkHKg2Vr0M       177   \n",
       "100001  El Pelon del Mikrophone  11657063  M_A58j6A-hg       218   \n",
       "\n",
       "        Danceability     Loudness         BPM Key Key Scale         Energy  \\\n",
       "0           1.365855  5662.711426  128.004791   F     minor  399511.093750   \n",
       "100000      1.656689  3484.364990   92.989853  F#     minor  193531.453125   \n",
       "100001      1.347551  3015.341064  133.968338   F     minor  155969.375000   \n",
       "\n",
       "                                      Chords Significance  Inharmonicity  \\\n",
       "0       {'A': 1368, 'Ab': 44, 'Am': 1210, 'C': 363, 'C...       0.288343   \n",
       "100000  {'A': 277, 'Ab': 32, 'Abm': 57, 'Am': 13, 'B':...       0.237590   \n",
       "100001  {'A': 44, 'Ab': 141, 'Abm': 17, 'Am': 45, 'B':...       0.319716   \n",
       "\n",
       "           Timbre  Onset Rate   Brightness  Dynamic Complexity      Novelty  \\\n",
       "0      -19.498598    4.381480  1235.493164            4.430042   176.945801   \n",
       "100000 -16.540997    4.217937  1637.857544            3.100346  4340.726562   \n",
       "100001 -18.797167    5.190122  2116.453613            3.823609  4538.546875   \n",
       "\n",
       "        Time Signature  \n",
       "0                  4.0  \n",
       "100000             4.0  \n",
       "100001             2.0  "
      ]
     },
     "execution_count": 63,
     "metadata": {},
     "output_type": "execute_result"
    }
   ],
   "source": [
    "songs_data_full.dropna(subset=['Danceability'])\n"
   ]
  }
 ],
 "metadata": {
  "kaggle": {
   "accelerator": "none",
   "dataSources": [
    {
     "datasetId": 5807643,
     "sourceId": 9535353,
     "sourceType": "datasetVersion"
    },
    {
     "datasetId": 5843102,
     "sourceId": 9582418,
     "sourceType": "datasetVersion"
    },
    {
     "modelId": 131168,
     "modelInstanceId": 106837,
     "sourceId": 126903,
     "sourceType": "modelInstanceVersion"
    },
    {
     "modelId": 133887,
     "modelInstanceId": 109590,
     "sourceId": 130047,
     "sourceType": "modelInstanceVersion"
    },
    {
     "isSourceIdPinned": true,
     "modelId": 133915,
     "modelInstanceId": 109618,
     "sourceId": 130080,
     "sourceType": "modelInstanceVersion"
    }
   ],
   "dockerImageVersionId": 30775,
   "isGpuEnabled": false,
   "isInternetEnabled": true,
   "language": "python",
   "sourceType": "notebook"
  },
  "kernelspec": {
   "display_name": ".venv",
   "language": "python",
   "name": "python3"
  },
  "language_info": {
   "codemirror_mode": {
    "name": "ipython",
    "version": 3
   },
   "file_extension": ".py",
   "mimetype": "text/x-python",
   "name": "python",
   "nbconvert_exporter": "python",
   "pygments_lexer": "ipython3",
   "version": "3.10.12"
  }
 },
 "nbformat": 4,
 "nbformat_minor": 5
}
