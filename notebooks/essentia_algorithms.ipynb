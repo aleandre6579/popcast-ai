{
 "cells": [
  {
   "cell_type": "markdown",
   "id": "f6c19fee",
   "metadata": {},
   "source": [
    "#### Dependencies"
   ]
  },
  {
   "cell_type": "code",
   "execution_count": 1,
   "id": "c24d98cf",
   "metadata": {},
   "outputs": [
    {
     "name": "stderr",
     "output_type": "stream",
     "text": [
      "[   INFO   ] MusicExtractorSVM: no classifier models were configured by default\n"
     ]
    }
   ],
   "source": [
    "import os\n",
    "import numpy as np\n",
    "import matplotlib.pyplot as plt\n",
    "import pandas as pd\n",
    "import librosa\n",
    "import time\n",
    "import multiprocessing as mp\n",
    "from dotenv import load_dotenv\n",
    "from tqdm.notebook import tqdm\n",
    "import sys\n",
    "from contextlib import closing\n",
    "import psutil\n",
    "import tracemalloc\n",
    "import threading\n",
    "import gc\n",
    "from guppy import hpy\n",
    "\n",
    "from essentia.standard import (\n",
    "    MonoLoader,\n",
    "    Danceability,\n",
    "    Spectrum,\n",
    "    FrameCutter,\n",
    "    Loudness,\n",
    "    RhythmExtractor2013,\n",
    "    KeyExtractor,\n",
    "    Energy,\n",
    "    TonalExtractor,\n",
    "    Inharmonicity,\n",
    "    MFCC,\n",
    "    OnsetRate,\n",
    "    SpectralCentroidTime,\n",
    "    DynamicComplexity,\n",
    "    SpectralPeaks,\n",
    "    NoveltyCurve,\n",
    "    Spectrum,\n",
    "    FrameGenerator,\n",
    "    Windowing,\n",
    "    MelBands,\n",
    "    BeatsLoudness,\n",
    "    Beatogram,\n",
    "    Meter,\n",
    ")"
   ]
  },
  {
   "cell_type": "markdown",
   "id": "7c08a118",
   "metadata": {},
   "source": [
    "#### Global Constants"
   ]
  },
  {
   "cell_type": "code",
   "execution_count": 2,
   "id": "b02b744d",
   "metadata": {},
   "outputs": [],
   "source": [
    "load_dotenv()\n",
    "DOWNLOAD_FOLDER = os.getenv('DOWNLOAD_FOLDER')\n",
    "CPU_THREADS = int(os.getenv('CPU_THREADS'))\n",
    "BATCH_SIZE = 20\n",
    "FEATURES_OUTPUT_FILE = \"data/features.csv\""
   ]
  },
  {
   "cell_type": "markdown",
   "id": "cab3098f",
   "metadata": {},
   "source": [
    "#### Data"
   ]
  },
  {
   "cell_type": "code",
   "execution_count": 3,
   "id": "beee6bea",
   "metadata": {},
   "outputs": [],
   "source": [
    "songs_data = pd.read_csv('data/songs_final.csv')"
   ]
  },
  {
   "cell_type": "markdown",
   "id": "7f582f3b",
   "metadata": {},
   "source": [
    "#### Feature Extraction Functions"
   ]
  },
  {
   "cell_type": "code",
   "execution_count": 4,
   "id": "c4973e2c",
   "metadata": {},
   "outputs": [],
   "source": [
    "def create_spectrogram_image(spectrogram_db, sample_rate):\n",
    "    plt.figure(figsize=(10, 4))\n",
    "    librosa.display.specshow(spectrogram_db, sr=sample_rate, x_axis='time', y_axis='mel', fmax=11025)\n",
    "    plt.colorbar(format='%+2.0f dB')\n",
    "    plt.title(f\"Mel-Spectrogram\")\n",
    "    plt.tight_layout()\n",
    "    plt.show()\n",
    "    plt.close()"
   ]
  },
  {
   "cell_type": "code",
   "execution_count": 5,
   "id": "4a0093f9",
   "metadata": {},
   "outputs": [],
   "source": [
    "def mp3_to_spectrogram(audio_path, sample_rate, create_image=False):\n",
    "    mp3, _ = librosa.load(audio_path, sr=sample_rate)\n",
    "    spectrogram = librosa.feature.melspectrogram(y=mp3, sr=sample_rate, n_mels=128, fmax=11025)\n",
    "    spectrogram_db = librosa.power_to_db(spectrogram, ref=np.max)\n",
    "\n",
    "    if create_image:\n",
    "        create_spectrogram_image(spectrogram_db, sample_rate)\n",
    "\n",
    "    return spectrogram_db"
   ]
  },
  {
   "cell_type": "code",
   "execution_count": 6,
   "id": "cfcde25c",
   "metadata": {},
   "outputs": [
    {
     "name": "stderr",
     "output_type": "stream",
     "text": [
      "/home/alean/stuff/popcast-ai/.venv/lib/python3.10/site-packages/librosa/feature/spectral.py:2143: UserWarning: Empty filters detected in mel frequency basis. Some channels will produce empty responses. Try increasing your sampling rate (and fmax) or reducing n_mels.\n",
      "  mel_basis = filters.mel(sr=sr, n_fft=n_fft, **kwargs)\n"
     ]
    }
   ],
   "source": [
    "spectr = mp3_to_spectrogram(DOWNLOAD_FOLDER+'/0^LlWGt_84jpg^Special Breed.mp3', 16000)"
   ]
  },
  {
   "cell_type": "code",
   "execution_count": 7,
   "id": "3479df71",
   "metadata": {},
   "outputs": [
    {
     "name": "stdout",
     "output_type": "stream",
     "text": [
      "(128, 10335)\n"
     ]
    },
    {
     "data": {
      "text/plain": [
       "5291648"
      ]
     },
     "execution_count": 7,
     "metadata": {},
     "output_type": "execute_result"
    }
   ],
   "source": [
    "print(spectr.shape)\n",
    "sys.getsizeof(spectr)"
   ]
  },
  {
   "cell_type": "code",
   "execution_count": 8,
   "id": "e1ecc0fe",
   "metadata": {},
   "outputs": [
    {
     "name": "stdout",
     "output_type": "stream",
     "text": [
      "(128, 10335)\n"
     ]
    },
    {
     "data": {
      "text/plain": [
       "5291648"
      ]
     },
     "execution_count": 8,
     "metadata": {},
     "output_type": "execute_result"
    }
   ],
   "source": [
    "print(spectr.shape)\n",
    "sys.getsizeof(spectr)"
   ]
  },
  {
   "cell_type": "code",
   "execution_count": 9,
   "id": "cd147c6d",
   "metadata": {},
   "outputs": [],
   "source": [
    "def get_mel_bands(audio):\n",
    "    spectrum = Spectrum()\n",
    "    frame_generator = FrameGenerator(audio, frameSize=2048, hopSize=1024)\n",
    "    window = Windowing(type='hann')\n",
    "\n",
    "    mel_bands = MelBands(numberBands=40)\n",
    "    mel_band_energies = []\n",
    "\n",
    "    for frame in frame_generator:\n",
    "        spec = spectrum(window(frame))\n",
    "        mel_band_energies.append(mel_bands(spec))\n",
    "\n",
    "    mel_band_energies = np.array(mel_band_energies)\n",
    "\n",
    "    return mel_band_energies"
   ]
  },
  {
   "cell_type": "code",
   "execution_count": 10,
   "id": "9d555c4b",
   "metadata": {},
   "outputs": [],
   "source": [
    "def run_essentia_algorithms(audio44k, audio16k):\n",
    "    _, mfcc_coeffs = MFCC(inputSize=len(audio16k))(audio16k)\n",
    "    danceability_score = Danceability()(audio44k)\n",
    "    loudness_score = Loudness()(audio16k)\n",
    "    bpm, beat_positions, _, _, _ = RhythmExtractor2013(method=\"multifeature\")(audio44k)\n",
    "    key, scale, _ = KeyExtractor()(audio44k)\n",
    "    energy_score = Energy()(audio16k)\n",
    "\n",
    "    ### Chord Significances\n",
    "    _, _, _, _, chords, _, _, _, _, _, _, _ = TonalExtractor()(audio44k)\n",
    "    unique_chords, counts = np.unique(chords, return_counts=True)\n",
    "    chords_significance = {chord: significance for (chord, significance) in zip(unique_chords, counts)}\n",
    "\n",
    "    ### Inharmonicity\n",
    "    frames = []\n",
    "    frameCutter = FrameCutter()\n",
    "    while True:\n",
    "        frame = frameCutter(audio44k)\n",
    "        if not len(frame):\n",
    "            break\n",
    "        frames.append(frame)\n",
    "        \n",
    "    spectrum_magnitudes = []\n",
    "    for frame in frames:\n",
    "        spectrum_magnitudes_frame = Spectrum()(frame)\n",
    "        spectrum_magnitudes.append(spectrum_magnitudes_frame)\n",
    "    spectrum_magnitudes = np.array(spectrum_magnitudes).flatten()\n",
    "    \n",
    "    frequencies, magnitudes = SpectralPeaks()(audio44k)\n",
    "    hnr_score = None\n",
    "    if frequencies[0]: \n",
    "        hnr_score = Inharmonicity()(frequencies, magnitudes)\n",
    "    ###\n",
    "    \n",
    "    onset_rate_score = OnsetRate()(audio44k)\n",
    "    brightness_score = SpectralCentroidTime()(audio44k)\n",
    "    dynamic_complexity_score, _ = DynamicComplexity()(audio16k)\n",
    "    \n",
    "    mel_bands = get_mel_bands(audio44k)\n",
    "    novelty_curve = NoveltyCurve()(mel_bands)\n",
    "    novelty_score = np.median(np.abs(np.diff(novelty_curve)))\n",
    "    \n",
    "    beats_loudness, beats_loudness_band_ratio = BeatsLoudness(beats=beat_positions)(audio44k)\n",
    "    beatogram = Beatogram()(beats_loudness, beats_loudness_band_ratio)\n",
    "    time_signature = Meter()(beatogram)\n",
    "\n",
    "    features = {\n",
    "        'Danceability': danceability_score[0],\n",
    "        'Loudness': loudness_score,\n",
    "        'BPM': bpm,\n",
    "        'Key': key,\n",
    "        'Key Scale': scale,\n",
    "        'Energy': energy_score,\n",
    "        'Chords Significance': chords_significance,\n",
    "        'Inharmonicity': hnr_score,\n",
    "        'Timbre': np.mean(mfcc_coeffs),\n",
    "        'Onset Rate': onset_rate_score[1],\n",
    "        'Brightness': brightness_score,\n",
    "        'Dynamic Complexity': dynamic_complexity_score,\n",
    "        'Novelty': novelty_score,\n",
    "        'Time Signature': time_signature,\n",
    "    }\n",
    "\n",
    "    return features"
   ]
  },
  {
   "cell_type": "code",
   "execution_count": 11,
   "id": "e934df81",
   "metadata": {},
   "outputs": [],
   "source": [
    "def extract_audio_features(audio_file):\n",
    "    # Load the audio file\n",
    "    audio44k = MonoLoader(filename=audio_file)()\n",
    "    audio16k = MonoLoader(filename=audio_file, sampleRate=16000)()\n",
    "\n",
    "    # Run algorithms\n",
    "    algorithm_features = run_essentia_algorithms(audio44k, audio16k)\n",
    "\n",
    "    # Merge results\n",
    "    return algorithm_features"
   ]
  },
  {
   "cell_type": "markdown",
   "id": "fe4b83ac",
   "metadata": {},
   "source": [
    "#### Util Functions"
   ]
  },
  {
   "cell_type": "code",
   "execution_count": 12,
   "id": "29776302",
   "metadata": {},
   "outputs": [],
   "source": [
    "def get_total_memory_usage(process):\n",
    "    memory_summary = {f'Process {process.pid}': process.memory_info().rss / (1024 * 1024)}\n",
    "    for child in process.children(recursive=True):\n",
    "        memory_summary = memory_summary | {f'Child Process {child.pid}': child.memory_info().rss / (1024 * 1024)}\n",
    "    return memory_summary\n",
    "\n",
    "def print_memory_usage(process):\n",
    "    print(get_total_memory_usage(process))\n",
    "    snapshot = tracemalloc.take_snapshot()\n",
    "    print(f\"Top Consumer of Process {process.pid}: {snapshot.statistics('lineno')[0]}\")\n",
    "\n",
    "def monitor_memory_usage(process, kill_thread, interval=120):\n",
    "    while True:\n",
    "        try:\n",
    "            if kill_thread.value:\n",
    "                print(\"MONITOR THREAD KILLED\")\n",
    "                return\n",
    "            print_memory_usage(process)\n",
    "        except Exception as e:\n",
    "            print(f\"Thread ERROR: {e}\")\n",
    "            return\n",
    "        time.sleep(interval)"
   ]
  },
  {
   "cell_type": "markdown",
   "id": "9236a2bf",
   "metadata": {},
   "source": [
    "#### Main Code"
   ]
  },
  {
   "cell_type": "code",
   "execution_count": 13,
   "id": "d9eda839",
   "metadata": {},
   "outputs": [],
   "source": [
    "# Class constructed from song path\n",
    "# Song path must follow this format: /some/path/(int)^(video id)^(title).mp3\n",
    "#                               e.g  /some/path/0^LlWGt_84jpg^Special Breed.mp3\n",
    "class SongPath:\n",
    "    def __init__(self, song_path: str):\n",
    "        self.path = song_path\n",
    "        self.filename = os.path.basename(song_path)\n",
    "\n",
    "        song_filename_split = self.filename.split('^')\n",
    "        if len(song_filename_split) != 3:\n",
    "            raise Exception(\"The song's filename doesn't follow the correct format: /some/path/(int)^(video id)^(title).mp3\")\n",
    "        \n",
    "        self.index, self.video_id, self.title_with_extension = song_filename_split\n",
    "\n",
    "        self.index = int(self.index)\n",
    "        self.title = os.path.splitext(self.title_with_extension)[0]\n",
    "\n",
    "    def __str__(self):\n",
    "        return f\"Idx: {self.index},  videoID: {self.video_id}, title: {self.title_with_extension}\""
   ]
  },
  {
   "cell_type": "code",
   "execution_count": 14,
   "id": "9a437863",
   "metadata": {},
   "outputs": [],
   "source": [
    "def process_song(args):\n",
    "    song_path, output_file = args\n",
    "    song = SongPath(song_path)\n",
    "    song_features = extract_audio_features(song.path)\n",
    "    #print_memory_usage(psutil.Process(os.getpid()))\n",
    "    #song_results.append((song.index, song_features))\n",
    "\n",
    "    # If file doesnt exist, create file and add headers\n",
    "    print(song_features.keys())\n",
    "    if not os.path.exists(output_file):\n",
    "        empty_df = pd.DataFrame(columns=song_features.keys())\n",
    "        empty_df.to_csv(output_file, index=False)\n",
    "    with open(output_file, 'a') as f:\n",
    "        pd.DataFrame([song_features]).to_csv(f, header=False, index=False)\n",
    "\n",
    "def process_song(args):\n",
    "    song_path, song_results = args\n",
    "    song = SongPath(song_path)\n",
    "    song_features = extract_audio_features(song.path)\n",
    "    #print_memory_usage(psutil.Process(os.getpid()))\n",
    "    song_results.append((song.index, song_features))"
   ]
  },
  {
   "cell_type": "code",
   "execution_count": 15,
   "id": "f4af27a8",
   "metadata": {},
   "outputs": [],
   "source": [
    "def process_songs():                   \n",
    "    tracemalloc.start()\n",
    "\n",
    "    # Get downloaded songs paths\n",
    "    song_paths = np.array([os.path.join(DOWNLOAD_FOLDER, song_filename) for song_filename in os.listdir(DOWNLOAD_FOLDER)])\n",
    "    #songs_data_lower, songs_data_higher = [0, len(song_paths)//6]\n",
    "    songs_data_lower, songs_data_higher = [0, 12]\n",
    "    song_paths = song_paths[songs_data_lower:songs_data_higher]\n",
    "    \n",
    "    # Monitor processes' memory for debugging\n",
    "    main_process = psutil.Process(os.getpid())\n",
    "    print(f\"Main Process ID: {main_process.pid}\")\n",
    "    memory_thread = threading.Thread(target=monitor_memory_usage, args=(main_process))\n",
    "    memory_thread.daemon = True  # Ensure the thread will exit when the main program exits\n",
    "    memory_thread.start()\n",
    "\n",
    "    # Determine output file (needs to be a brand new file)\n",
    "    output_file_name, output_file_ext = os.path.splitext(FEATURES_OUTPUT_FILE)\n",
    "    output_file_suffix = 1\n",
    "    while os.path.exists(output_file_name + str(output_file_suffix) + output_file_ext):\n",
    "        output_file_suffix += 1\n",
    "    output_file = output_file_name + str(output_file_suffix) + output_file_ext\n",
    "\n",
    "    with mp.Pool(processes=CPU_THREADS, maxtasksperchild=5) as pool:\n",
    "        with tqdm(total=len(song_paths), desc=\"Processing songs\") as pbar:\n",
    "            args = [(song_path, output_file) for song_path in song_paths]\n",
    "            for _ in pool.imap(process_song, args, chunksize=1):\n",
    "                pbar.update(1)"
   ]
  },
  {
   "cell_type": "code",
   "execution_count": 16,
   "id": "d0ddfde7",
   "metadata": {},
   "outputs": [],
   "source": [
    "def process_songs():                   \n",
    "    tracemalloc.start()\n",
    "\n",
    "    song_paths = np.array([os.path.join(DOWNLOAD_FOLDER, song_filename) for song_filename in os.listdir(DOWNLOAD_FOLDER)])\n",
    "\n",
    "    songs_data_lower, songs_data_higher = [0, len(song_paths)//6]\n",
    "    song_paths = song_paths[songs_data_lower:songs_data_higher]\n",
    "    \n",
    "    with mp.Manager() as manager:\n",
    "        kill_thread = manager.Value('b', False)\n",
    "        shared_song_results = manager.list()\n",
    "        main_process = psutil.Process(os.getpid())\n",
    "        print(f\"Main Process ID: {main_process.pid}\")\n",
    "        memory_thread = threading.Thread(target=monitor_memory_usage, args=(main_process, kill_thread))\n",
    "        memory_thread.daemon = True  # Ensure the thread will exit when the main program exits\n",
    "        memory_thread.start()\n",
    "        \n",
    "        with mp.Pool(processes=CPU_THREADS, maxtasksperchild=40) as pool:\n",
    "            with tqdm(total=len(song_paths), desc=\"Processing songs\") as pbar:\n",
    "                args = [(song_path, shared_song_results) for song_path in song_paths]\n",
    "                for _ in pool.imap(process_song, args, chunksize=1):\n",
    "                    pbar.update(1)\n",
    "\n",
    "        kill_thread.value = True\n",
    "        song_results = list(shared_song_results)\n",
    "\n",
    "    # Aggregate results in the pandas dataframe\n",
    "    songs_data_full = songs_data.copy(deep=True)\n",
    "    for song_index, song_features in song_results:\n",
    "        for feature, value in song_features.items():\n",
    "            if feature not in songs_data_full.columns and isinstance(value, (tuple, set, list, np.ndarray, dict)):\n",
    "                songs_data_full[feature] = np.nan\n",
    "                songs_data_full[feature] = songs_data_full[feature].astype(object)\n",
    "            songs_data_full.at[song_index, feature] = value\n",
    "\n",
    "    return songs_data_full"
   ]
  },
  {
   "cell_type": "code",
   "execution_count": null,
   "id": "37ecca37",
   "metadata": {},
   "outputs": [
    {
     "name": "stdout",
     "output_type": "stream",
     "text": [
      "Main Process ID: 767\n"
     ]
    },
    {
     "data": {
      "application/vnd.jupyter.widget-view+json": {
       "model_id": "8d27a8d1de954fcc85128919368ecb37",
       "version_major": 2,
       "version_minor": 0
      },
      "text/plain": [
       "Processing songs:   0%|          | 0/16391 [00:00<?, ?it/s]"
      ]
     },
     "metadata": {},
     "output_type": "display_data"
    },
    {
     "name": "stdout",
     "output_type": "stream",
     "text": [
      "{'Process 767': 520.609375, 'Child Process 1550': 397.06640625, 'Child Process 1560': 398.4375, 'Child Process 1563': 398.44921875, 'Child Process 1566': 398.45703125}\n",
      "Top Consumer of Process 767: /tmp/ipykernel_767/2345274766.py:4: size=55.1 MiB, count=3, average=18.4 MiB\n",
      "{'Process 767': 533.64453125, 'Child Process 1550': 398.25390625, 'Child Process 1560': 621.40625, 'Child Process 1563': 774.79296875, 'Child Process 1566': 688.02734375, 'Child Process 1569': 684.8515625}\n",
      "Top Consumer of Process 767: /tmp/ipykernel_767/2345274766.py:4: size=55.1 MiB, count=3, average=18.4 MiB\n",
      "{'Process 767': 534.64453125, 'Child Process 1550': 398.28125, 'Child Process 1560': 706.30078125, 'Child Process 1563': 657.45703125, 'Child Process 1566': 676.390625, 'Child Process 1569': 725.640625}\n",
      "Top Consumer of Process 767: /tmp/ipykernel_767/2345274766.py:4: size=55.1 MiB, count=3, average=18.4 MiB\n",
      "{'Process 767': 535.41796875, 'Child Process 1550': 398.83984375, 'Child Process 1560': 784.0234375, 'Child Process 1563': 691.01171875, 'Child Process 1566': 630.7734375, 'Child Process 1569': 739.83984375}\n",
      "Top Consumer of Process 767: /tmp/ipykernel_767/2345274766.py:4: size=55.1 MiB, count=3, average=18.4 MiB\n",
      "{'Process 767': 535.4296875, 'Child Process 1550': 399.05078125, 'Child Process 1560': 785.18359375, 'Child Process 1563': 748.046875, 'Child Process 1566': 822.47265625, 'Child Process 1569': 822.734375}\n",
      "Top Consumer of Process 767: /tmp/ipykernel_767/2345274766.py:4: size=55.1 MiB, count=3, average=18.4 MiB\n",
      "{'Process 767': 535.4296875, 'Child Process 1550': 399.36328125, 'Child Process 1560': 793.39453125, 'Child Process 1563': 757.73046875, 'Child Process 1566': 695.1796875, 'Child Process 1569': 797.55859375}\n",
      "Top Consumer of Process 767: /tmp/ipykernel_767/2345274766.py:4: size=55.1 MiB, count=3, average=18.4 MiB\n",
      "{'Process 767': 535.91796875, 'Child Process 1550': 400.14453125, 'Child Process 6313': 743.79296875, 'Child Process 6460': 643.55078125, 'Child Process 6754': 742.6015625, 'Child Process 6927': 606.88671875}\n",
      "Top Consumer of Process 767: /tmp/ipykernel_767/2345274766.py:4: size=55.1 MiB, count=3, average=18.4 MiB\n",
      "{'Process 767': 535.953125, 'Child Process 1550': 400.1484375, 'Child Process 6313': 730.73046875, 'Child Process 6460': 741.015625, 'Child Process 6754': 708.6875, 'Child Process 6927': 748.16796875}\n",
      "Top Consumer of Process 767: /tmp/ipykernel_767/2345274766.py:4: size=55.1 MiB, count=3, average=18.4 MiB\n",
      "{'Process 767': 537.9140625, 'Child Process 1550': 400.30078125, 'Child Process 6313': 919.06640625, 'Child Process 6460': 790.21875, 'Child Process 6754': 849.08203125, 'Child Process 6927': 839.55078125}\n",
      "Top Consumer of Process 767: /tmp/ipykernel_767/2345274766.py:4: size=55.1 MiB, count=3, average=18.4 MiB\n",
      "{'Process 767': 542.0390625, 'Child Process 1550': 400.74609375, 'Child Process 6313': 817.875, 'Child Process 6460': 718.67578125, 'Child Process 6754': 794.01953125, 'Child Process 6927': 819.5546875}\n",
      "Top Consumer of Process 767: /tmp/ipykernel_767/2345274766.py:4: size=55.1 MiB, count=3, average=18.4 MiB\n",
      "{'Process 767': 542.27734375, 'Child Process 1550': 400.8828125, 'Child Process 6313': 790.96484375, 'Child Process 6754': 732.9765625, 'Child Process 6927': 835.1953125, 'Child Process 10558': 491.32421875}\n",
      "Top Consumer of Process 767: /tmp/ipykernel_767/2345274766.py:4: size=55.1 MiB, count=3, average=18.4 MiB\n",
      "{'Process 767': 542.35546875, 'Child Process 1550': 401.26953125, 'Child Process 10558': 733.96875, 'Child Process 11139': 618.328125, 'Child Process 11151': 606.69921875, 'Child Process 11446': 709.515625}\n",
      "Top Consumer of Process 767: /tmp/ipykernel_767/2345274766.py:4: size=55.1 MiB, count=3, average=18.4 MiB\n",
      "{'Process 767': 542.359375, 'Child Process 1550': 402.4453125, 'Child Process 10558': 841.44140625, 'Child Process 11139': 1057.125, 'Child Process 11151': 797.43359375, 'Child Process 11446': 894.96484375}\n",
      "Top Consumer of Process 767: /tmp/ipykernel_767/2345274766.py:4: size=55.1 MiB, count=3, average=18.4 MiB\n",
      "{'Process 767': 542.359375, 'Child Process 1550': 402.4453125, 'Child Process 10558': 766.296875, 'Child Process 11139': 1068.23046875, 'Child Process 11151': 742.16796875, 'Child Process 11446': 783.1328125}\n",
      "Top Consumer of Process 767: /tmp/ipykernel_767/2345274766.py:4: size=55.1 MiB, count=3, average=18.4 MiB\n",
      "{'Process 767': 542.359375, 'Child Process 1550': 403.03125, 'Child Process 10558': 747.828125, 'Child Process 11139': 1013.01953125, 'Child Process 11151': 792.34375, 'Child Process 11446': 784.02734375}\n",
      "Top Consumer of Process 767: /tmp/ipykernel_767/2345274766.py:4: size=55.1 MiB, count=3, average=18.4 MiB\n",
      "{'Process 767': 542.41015625, 'Child Process 1550': 403.1171875, 'Child Process 11139': 972.26953125, 'Child Process 11151': 772.25, 'Child Process 11446': 966.32421875, 'Child Process 14634': 1081.44921875}\n",
      "Top Consumer of Process 767: /tmp/ipykernel_767/2345274766.py:4: size=55.1 MiB, count=3, average=18.4 MiB\n",
      "{'Process 767': 542.421875, 'Child Process 1550': 403.41796875, 'Child Process 11446': 822.3203125, 'Child Process 14634': 1146.28125, 'Child Process 15530': 645.9375, 'Child Process 15777': 681.78515625}\n",
      "Top Consumer of Process 767: /tmp/ipykernel_767/2345274766.py:4: size=55.1 MiB, count=3, average=18.4 MiB\n",
      "{'Process 767': 542.42578125, 'Child Process 1550': 403.5703125, 'Child Process 14634': 1122.26171875, 'Child Process 15530': 764.5546875, 'Child Process 15777': 782.44140625, 'Child Process 15992': 1009.671875}\n",
      "Top Consumer of Process 767: /tmp/ipykernel_767/2345274766.py:4: size=55.1 MiB, count=3, average=18.4 MiB\n",
      "{'Process 767': 542.58984375, 'Child Process 1550': 403.5703125, 'Child Process 14634': 1093.6953125, 'Child Process 15530': 806.98046875, 'Child Process 15777': 873.70703125, 'Child Process 15992': 1134.4375}\n",
      "Top Consumer of Process 767: /tmp/ipykernel_767/2345274766.py:4: size=55.1 MiB, count=3, average=18.4 MiB\n",
      "{'Process 767': 542.58984375, 'Child Process 1550': 404.0078125, 'Child Process 14634': 1127.890625, 'Child Process 15530': 773.45703125, 'Child Process 15777': 789.13671875, 'Child Process 15992': 1076.21484375}\n",
      "Top Consumer of Process 767: /tmp/ipykernel_767/2345274766.py:4: size=55.1 MiB, count=3, average=18.4 MiB\n",
      "{'Process 767': 542.58984375, 'Child Process 1550': 404.2578125, 'Child Process 14634': 1095.62109375, 'Child Process 15530': 699.91796875, 'Child Process 15777': 846.34765625, 'Child Process 15992': 1076.05859375}\n",
      "Top Consumer of Process 767: /tmp/ipykernel_767/2345274766.py:4: size=55.1 MiB, count=3, average=18.4 MiB\n",
      "{'Process 767': 542.62890625, 'Child Process 1550': 404.77734375, 'Child Process 15992': 1075.546875, 'Child Process 19580': 677.71484375, 'Child Process 20273': 788.2109375, 'Child Process 20297': 577.66015625}\n",
      "Top Consumer of Process 767: /tmp/ipykernel_767/2345274766.py:4: size=55.1 MiB, count=3, average=18.4 MiB\n",
      "{'Process 767': 542.66796875, 'Child Process 1550': 405.0, 'Child Process 19580': 763.0703125, 'Child Process 20273': 749.0625, 'Child Process 20297': 722.1484375, 'Child Process 20499': 710.31640625}\n",
      "Top Consumer of Process 767: /tmp/ipykernel_767/2345274766.py:4: size=55.1 MiB, count=3, average=18.4 MiB\n",
      "{'Process 767': 542.66796875, 'Child Process 1550': 405.00390625, 'Child Process 19580': 788.38671875, 'Child Process 20273': 749.41796875, 'Child Process 20297': 770.3046875, 'Child Process 20499': 748.88671875}\n",
      "Top Consumer of Process 767: /tmp/ipykernel_767/2345274766.py:4: size=55.1 MiB, count=3, average=18.4 MiB\n",
      "{'Process 767': 542.68359375, 'Child Process 1550': 407.80078125, 'Child Process 19580': 794.296875, 'Child Process 20273': 1077.76953125, 'Child Process 20297': 727.8125, 'Child Process 20499': 721.8671875}\n",
      "Top Consumer of Process 767: /tmp/ipykernel_767/2345274766.py:4: size=55.1 MiB, count=3, average=18.4 MiB\n",
      "{'Process 767': 542.68359375, 'Child Process 1550': 408.0625, 'Child Process 19580': 788.7109375, 'Child Process 20273': 1067.87109375, 'Child Process 20297': 804.58984375, 'Child Process 20499': 778.5859375}\n",
      "Top Consumer of Process 767: /tmp/ipykernel_767/2345274766.py:4: size=55.1 MiB, count=3, average=18.4 MiB\n",
      "{'Process 767': 542.72265625, 'Child Process 1550': 408.6875, 'Child Process 24189': 747.05859375, 'Child Process 24587': 658.7890625, 'Child Process 24622': 906.20703125, 'Child Process 24659': 751.4765625}\n",
      "Top Consumer of Process 767: /tmp/ipykernel_767/2345274766.py:4: size=55.1 MiB, count=3, average=18.4 MiB\n",
      "{'Process 767': 542.73828125, 'Child Process 1550': 408.6953125, 'Child Process 24189': 718.8671875, 'Child Process 24587': 859.1328125, 'Child Process 24622': 824.63671875, 'Child Process 24659': 799.7890625}\n",
      "Top Consumer of Process 767: /tmp/ipykernel_767/2345274766.py:4: size=55.1 MiB, count=3, average=18.4 MiB\n",
      "{'Process 767': 542.73828125, 'Child Process 1550': 408.6953125, 'Child Process 24189': 752.29296875, 'Child Process 24587': 818.9375, 'Child Process 24622': 833.43359375, 'Child Process 24659': 797.13671875}\n",
      "Top Consumer of Process 767: /tmp/ipykernel_767/2345274766.py:4: size=55.1 MiB, count=3, average=18.4 MiB\n",
      "{'Process 767': 542.73828125, 'Child Process 1550': 409.44921875, 'Child Process 24189': 765.03515625, 'Child Process 24587': 1092.49609375, 'Child Process 24622': 820.53515625, 'Child Process 24659': 797.02734375}\n",
      "Top Consumer of Process 767: /tmp/ipykernel_767/2345274766.py:4: size=55.1 MiB, count=3, average=18.4 MiB\n",
      "{'Process 767': 542.73828125, 'Child Process 1550': 409.453125, 'Child Process 24189': 870.12890625, 'Child Process 24587': 863.65625, 'Child Process 24622': 822.7109375, 'Child Process 24659': 752.66796875}\n",
      "Top Consumer of Process 767: /tmp/ipykernel_767/2345274766.py:4: size=55.1 MiB, count=3, average=18.4 MiB\n",
      "{'Process 767': 542.796875, 'Child Process 1550': 410.4375, 'Child Process 28634': 997.04296875, 'Child Process 28794': 766.40234375, 'Child Process 28992': 828.1796875, 'Child Process 29171': 830.4765625}\n",
      "Top Consumer of Process 767: /tmp/ipykernel_767/2345274766.py:4: size=55.1 MiB, count=3, average=18.4 MiB\n",
      "{'Process 767': 542.796875, 'Child Process 1550': 410.4375, 'Child Process 28634': 1009.94921875, 'Child Process 28794': 771.21484375, 'Child Process 28992': 889.91015625, 'Child Process 29171': 839.390625}\n",
      "Top Consumer of Process 767: /tmp/ipykernel_767/2345274766.py:4: size=55.1 MiB, count=3, average=18.4 MiB\n",
      "{'Process 767': 542.80859375, 'Child Process 1550': 410.44140625, 'Child Process 28634': 1023.54296875, 'Child Process 28794': 703.28125, 'Child Process 28992': 833.1640625, 'Child Process 29171': 821.9609375}\n",
      "Top Consumer of Process 767: /tmp/ipykernel_767/2345274766.py:4: size=55.1 MiB, count=3, average=18.4 MiB\n",
      "{'Process 767': 542.80859375, 'Child Process 1550': 411.203125, 'Child Process 28634': 1017.64453125, 'Child Process 28794': 719.41015625, 'Child Process 28992': 790.69140625, 'Child Process 29171': 967.0625}\n",
      "Top Consumer of Process 767: /tmp/ipykernel_767/2345274766.py:4: size=55.1 MiB, count=3, average=18.4 MiB\n",
      "{'Process 767': 542.80859375, 'Child Process 1550': 411.203125, 'Child Process 28634': 1029.1953125, 'Child Process 28794': 740.40234375, 'Child Process 28992': 824.234375, 'Child Process 29171': 799.87109375}\n",
      "Top Consumer of Process 767: /tmp/ipykernel_767/2345274766.py:4: size=55.1 MiB, count=3, average=18.4 MiB\n",
      "{'Process 767': 542.828125, 'Child Process 1550': 411.9453125, 'Child Process 33073': 686.796875, 'Child Process 33368': 940.17578125, 'Child Process 33394': 940.60546875, 'Child Process 33430': 769.60546875}\n",
      "Top Consumer of Process 767: /tmp/ipykernel_767/2345274766.py:4: size=55.1 MiB, count=3, average=18.4 MiB\n",
      "{'Process 767': 542.828125, 'Child Process 1550': 411.953125, 'Child Process 33073': 1026.44140625, 'Child Process 33368': 946.25, 'Child Process 33394': 877.734375, 'Child Process 33430': 801.265625}\n",
      "Top Consumer of Process 767: /tmp/ipykernel_767/2345274766.py:4: size=55.1 MiB, count=3, average=18.4 MiB\n",
      "{'Process 767': 542.828125, 'Child Process 1550': 412.46484375, 'Child Process 33073': 928.3203125, 'Child Process 33368': 1293.64453125, 'Child Process 33394': 963.37109375, 'Child Process 33430': 782.05078125}\n",
      "Top Consumer of Process 767: /tmp/ipykernel_767/2345274766.py:4: size=55.1 MiB, count=3, average=18.4 MiB\n",
      "{'Process 767': 542.828125, 'Child Process 1550': 412.71875, 'Child Process 33073': 967.609375, 'Child Process 33368': 1295.96875, 'Child Process 33394': 764.15234375, 'Child Process 33430': 819.0703125}\n",
      "Top Consumer of Process 767: /tmp/ipykernel_767/2345274766.py:4: size=55.1 MiB, count=3, average=18.4 MiB\n",
      "{'Process 767': 542.83984375, 'Child Process 1550': 413.390625, 'Child Process 36659': 742.90625, 'Child Process 37242': 745.0234375, 'Child Process 37318': 605.35546875, 'Child Process 37439': 530.328125}\n",
      "Top Consumer of Process 767: /tmp/ipykernel_767/2345274766.py:4: size=55.1 MiB, count=3, average=18.4 MiB\n",
      "{'Process 767': 542.83984375, 'Child Process 1550': 413.39453125, 'Child Process 36659': 879.62109375, 'Child Process 37242': 989.9375, 'Child Process 37318': 804.37890625, 'Child Process 37439': 900.578125}\n",
      "Top Consumer of Process 767: /tmp/ipykernel_767/2345274766.py:4: size=55.1 MiB, count=3, average=18.4 MiB\n",
      "{'Process 767': 542.83984375, 'Child Process 1550': 413.39453125, 'Child Process 36659': 837.94921875, 'Child Process 37242': 877.0, 'Child Process 37318': 789.27734375, 'Child Process 37439': 837.95703125}\n",
      "Top Consumer of Process 767: /tmp/ipykernel_767/2345274766.py:4: size=55.1 MiB, count=3, average=18.4 MiB\n",
      "{'Process 767': 542.83984375, 'Child Process 1550': 414.16015625, 'Child Process 36659': 814.10546875, 'Child Process 37242': 931.34375, 'Child Process 37318': 777.6640625, 'Child Process 37439': 995.37109375}\n",
      "Top Consumer of Process 767: /tmp/ipykernel_767/2345274766.py:4: size=55.1 MiB, count=3, average=18.4 MiB\n",
      "{'Process 767': 542.87109375, 'Child Process 1550': 414.53125, 'Child Process 37242': 908.328125, 'Child Process 37318': 830.78125, 'Child Process 37439': 854.12109375, 'Child Process 40364': 658.3046875}\n",
      "Top Consumer of Process 767: /tmp/ipykernel_767/2345274766.py:4: size=55.1 MiB, count=3, average=18.4 MiB\n",
      "{'Process 767': 542.87890625, 'Child Process 1550': 415.08203125, 'Child Process 40364': 843.9140625, 'Child Process 41367': 682.6953125, 'Child Process 41599': 654.25, 'Child Process 41820': 609.9921875}\n",
      "Top Consumer of Process 767: /tmp/ipykernel_767/2345274766.py:4: size=55.1 MiB, count=3, average=18.4 MiB\n",
      "{'Process 767': 542.87890625, 'Child Process 1550': 415.33984375, 'Child Process 40364': 812.8359375, 'Child Process 41367': 904.859375, 'Child Process 41599': 818.78515625, 'Child Process 41820': 676.84375}\n",
      "Top Consumer of Process 767: /tmp/ipykernel_767/2345274766.py:4: size=55.1 MiB, count=3, average=18.4 MiB\n",
      "{'Process 767': 542.87890625, 'Child Process 1550': 419.65234375, 'Child Process 40364': 769.859375, 'Child Process 41367': 845.37890625, 'Child Process 41599': 744.0390625, 'Child Process 41820': 756.00390625}\n",
      "Top Consumer of Process 767: /tmp/ipykernel_767/2345274766.py:4: size=55.1 MiB, count=3, average=18.4 MiB\n",
      "{'Process 767': 543.36328125, 'Child Process 1550': 420.265625, 'Child Process 41367': 816.80078125, 'Child Process 41599': 806.953125, 'Child Process 41820': 775.92578125, 'Child Process 44013': 1146.14453125}\n",
      "Top Consumer of Process 767: /tmp/ipykernel_767/2345274766.py:4: size=55.1 MiB, count=3, average=18.4 MiB\n",
      "{'Process 767': 543.37109375, 'Child Process 1550': 420.703125, 'Child Process 41599': 846.6015625, 'Child Process 41820': 764.1796875, 'Child Process 44013': 1081.3671875, 'Child Process 45051': 806.0859375}\n",
      "Top Consumer of Process 767: /tmp/ipykernel_767/2345274766.py:4: size=55.1 MiB, count=3, average=18.4 MiB\n",
      "{'Process 767': 543.38671875, 'Child Process 1550': 421.21875, 'Child Process 44013': 1033.453125, 'Child Process 45051': 965.41796875, 'Child Process 45791': 798.0703125, 'Child Process 45812': 775.6953125}\n",
      "Top Consumer of Process 767: /tmp/ipykernel_767/2345274766.py:4: size=55.1 MiB, count=3, average=18.4 MiB\n",
      "{'Process 767': 543.38671875, 'Child Process 1550': 421.25, 'Child Process 44013': 1003.78125, 'Child Process 45051': 1064.7578125, 'Child Process 45791': 805.87890625, 'Child Process 45812': 855.57421875}\n",
      "Top Consumer of Process 767: /tmp/ipykernel_767/2345274766.py:4: size=55.1 MiB, count=3, average=18.4 MiB\n",
      "{'Process 767': 543.40234375, 'Child Process 1550': 421.96875, 'Child Process 45051': 948.2578125, 'Child Process 45791': 805.02734375, 'Child Process 45812': 828.09375, 'Child Process 47955': 837.44921875}\n",
      "Top Consumer of Process 767: /tmp/ipykernel_767/2345274766.py:4: size=55.1 MiB, count=3, average=18.4 MiB\n",
      "{'Process 767': 543.40625, 'Child Process 1550': 422.30078125, 'Child Process 45791': 805.58984375, 'Child Process 47955': 713.55859375, 'Child Process 49174': 583.2890625, 'Child Process 49254': 439.99609375}\n",
      "Top Consumer of Process 767: /tmp/ipykernel_767/2345274766.py:4: size=55.1 MiB, count=3, average=18.4 MiB\n",
      "{'Process 767': 543.41015625, 'Child Process 1550': 422.44140625, 'Child Process 47955': 1013.6796875, 'Child Process 49174': 632.734375, 'Child Process 49254': 812.015625, 'Child Process 49973': 731.046875}\n",
      "Top Consumer of Process 767: /tmp/ipykernel_767/2345274766.py:4: size=55.1 MiB, count=3, average=18.4 MiB\n",
      "{'Process 767': 543.41796875, 'Child Process 1550': 422.69921875, 'Child Process 47955': 809.1171875, 'Child Process 49174': 732.7578125, 'Child Process 49254': 817.90625, 'Child Process 49973': 806.87109375}\n",
      "Top Consumer of Process 767: /tmp/ipykernel_767/2345274766.py:4: size=55.1 MiB, count=3, average=18.4 MiB\n",
      "{'Process 767': 543.41796875, 'Child Process 1550': 423.2109375, 'Child Process 47955': 873.390625, 'Child Process 49174': 871.81640625, 'Child Process 49254': 776.84375, 'Child Process 49973': 788.453125}\n",
      "Top Consumer of Process 767: /tmp/ipykernel_767/2345274766.py:4: size=55.1 MiB, count=3, average=18.4 MiB\n",
      "{'Process 767': 543.45703125, 'Child Process 1550': 423.39453125, 'Child Process 49174': 1332.265625, 'Child Process 49254': 1023.42578125, 'Child Process 49973': 768.328125, 'Child Process 52003': 821.5546875}\n",
      "Top Consumer of Process 767: /tmp/ipykernel_767/2345274766.py:4: size=55.1 MiB, count=3, average=18.4 MiB\n",
      "{'Process 767': 543.47265625, 'Child Process 1550': 423.73828125, 'Child Process 49973': 849.09765625, 'Child Process 52003': 982.00390625, 'Child Process 52937': 853.6015625, 'Child Process 53286': 940.4609375}\n",
      "Top Consumer of Process 767: /tmp/ipykernel_767/2345274766.py:4: size=55.1 MiB, count=3, average=18.4 MiB\n",
      "{'Process 767': 543.51171875, 'Child Process 1550': 424.125, 'Child Process 52003': 825.34375, 'Child Process 52937': 733.75, 'Child Process 53286': 944.47265625, 'Child Process 54267': 766.3046875}\n",
      "Top Consumer of Process 767: /tmp/ipykernel_767/2345274766.py:4: size=55.1 MiB, count=3, average=18.4 MiB\n",
      "{'Process 767': 543.52734375, 'Child Process 1550': 424.3828125, 'Child Process 52003': 1070.58984375, 'Child Process 52937': 775.609375, 'Child Process 53286': 987.3046875, 'Child Process 54267': 962.12890625}\n",
      "Top Consumer of Process 767: /tmp/ipykernel_767/2345274766.py:4: size=55.1 MiB, count=3, average=18.4 MiB\n",
      "{'Process 767': 543.54296875, 'Child Process 1550': 424.80859375, 'Child Process 52937': 880.1328125, 'Child Process 53286': 993.2734375, 'Child Process 54267': 1044.73046875, 'Child Process 56237': 757.78125}\n",
      "Top Consumer of Process 767: /tmp/ipykernel_767/2345274766.py:4: size=55.1 MiB, count=3, average=18.4 MiB\n",
      "{'Process 767': 543.5546875, 'Child Process 1550': 425.02734375, 'Child Process 53286': 948.4296875, 'Child Process 54267': 966.0625, 'Child Process 56237': 748.734375, 'Child Process 56673': 669.71875}\n",
      "Top Consumer of Process 767: /tmp/ipykernel_767/2345274766.py:4: size=55.1 MiB, count=3, average=18.4 MiB\n",
      "{'Process 767': 543.58203125, 'Child Process 1550': 425.22265625, 'Child Process 54267': 962.25, 'Child Process 56237': 882.3828125, 'Child Process 56673': 822.125, 'Child Process 57507': 847.796875}\n",
      "Top Consumer of Process 767: /tmp/ipykernel_767/2345274766.py:4: size=55.1 MiB, count=3, average=18.4 MiB\n",
      "{'Process 767': 543.6015625, 'Child Process 1550': 425.58984375, 'Child Process 56237': 752.32421875, 'Child Process 56673': 817.4296875, 'Child Process 57507': 749.79296875, 'Child Process 58298': 745.46484375}\n",
      "Top Consumer of Process 767: /tmp/ipykernel_767/2345274766.py:4: size=55.1 MiB, count=3, average=18.4 MiB\n",
      "{'Process 767': 543.6015625, 'Child Process 1550': 425.84765625, 'Child Process 56237': 814.19140625, 'Child Process 56673': 824.05859375, 'Child Process 57507': 866.05859375, 'Child Process 58298': 662.875}\n",
      "Top Consumer of Process 767: /tmp/ipykernel_767/2345274766.py:4: size=55.1 MiB, count=3, average=18.4 MiB\n",
      "{'Process 767': 543.60546875, 'Child Process 1550': 427.1015625, 'Child Process 57507': 791.60546875, 'Child Process 58298': 887.671875, 'Child Process 60431': 685.52734375, 'Child Process 60765': 675.2734375}\n",
      "Top Consumer of Process 767: /tmp/ipykernel_767/2345274766.py:4: size=55.1 MiB, count=3, average=18.4 MiB\n",
      "{'Process 767': 543.640625, 'Child Process 1550': 427.24609375, 'Child Process 58298': 745.8203125, 'Child Process 60431': 785.0390625, 'Child Process 60765': 721.47265625, 'Child Process 61806': 650.2578125}\n",
      "Top Consumer of Process 767: /tmp/ipykernel_767/2345274766.py:4: size=55.1 MiB, count=3, average=18.4 MiB\n",
      "{'Process 767': 544.46484375, 'Child Process 1550': 427.44140625, 'Child Process 60431': 846.54296875, 'Child Process 60765': 745.62890625, 'Child Process 61806': 826.62109375, 'Child Process 62095': 743.1015625}\n",
      "Top Consumer of Process 767: /tmp/ipykernel_767/2345274766.py:4: size=55.1 MiB, count=3, average=18.4 MiB\n",
      "{'Process 767': 544.46484375, 'Child Process 1550': 427.953125, 'Child Process 60431': 846.7734375, 'Child Process 60765': 796.6953125, 'Child Process 61806': 812.203125, 'Child Process 62095': 807.8046875}\n",
      "Top Consumer of Process 767: /tmp/ipykernel_767/2345274766.py:4: size=55.1 MiB, count=3, average=18.4 MiB\n",
      "{'Process 767': 544.4765625, 'Child Process 1550': 428.3515625, 'Child Process 60431': 838.7890625, 'Child Process 61806': 844.90625, 'Child Process 62095': 780.05859375, 'Child Process 64448': 625.33203125}\n",
      "Top Consumer of Process 767: /tmp/ipykernel_767/2345274766.py:4: size=55.1 MiB, count=3, average=18.4 MiB\n",
      "{'Process 767': 544.4765625, 'Child Process 1550': 428.765625, 'Child Process 61806': 971.88671875, 'Child Process 62095': 954.91796875, 'Child Process 64448': 786.37109375, 'Child Process 64709': 787.30859375}\n",
      "Top Consumer of Process 767: /tmp/ipykernel_767/2345274766.py:4: size=55.1 MiB, count=3, average=18.4 MiB\n",
      "{'Process 767': 544.48828125, 'Child Process 1550': 429.11328125, 'Child Process 64448': 923.2890625, 'Child Process 64709': 791.18359375, 'Child Process 66204': 784.7890625, 'Child Process 66291': 661.57421875}\n",
      "Top Consumer of Process 767: /tmp/ipykernel_767/2345274766.py:4: size=55.1 MiB, count=3, average=18.4 MiB\n",
      "{'Process 767': 544.48828125, 'Child Process 1550': 429.6328125, 'Child Process 64448': 874.96484375, 'Child Process 64709': 682.1328125, 'Child Process 66204': 1205.3671875, 'Child Process 66291': 682.90625}\n",
      "Top Consumer of Process 767: /tmp/ipykernel_767/2345274766.py:4: size=55.1 MiB, count=3, average=18.4 MiB\n",
      "{'Process 767': 544.5, 'Child Process 1550': 429.6328125, 'Child Process 64448': 815.29296875, 'Child Process 64709': 975.95703125, 'Child Process 66204': 957.453125, 'Child Process 66291': 725.56640625}\n",
      "Top Consumer of Process 767: /tmp/ipykernel_767/2345274766.py:4: size=55.1 MiB, count=3, average=18.4 MiB\n",
      "{'Process 767': 544.5234375, 'Child Process 1550': 430.28125, 'Child Process 66204': 1141.19140625, 'Child Process 66291': 810.234375, 'Child Process 68690': 998.3828125, 'Child Process 68709': 1391.140625}\n",
      "Top Consumer of Process 767: /tmp/ipykernel_767/2345274766.py:4: size=55.1 MiB, count=3, average=18.4 MiB\n",
      "{'Process 767': 544.5234375, 'Child Process 1550': 430.28515625, 'Child Process 66204': 957.37890625, 'Child Process 66291': 990.8125, 'Child Process 68690': 914.984375, 'Child Process 68709': 1049.28515625}\n",
      "Top Consumer of Process 767: /tmp/ipykernel_767/2345274766.py:4: size=55.1 MiB, count=3, average=18.4 MiB\n",
      "{'Process 767': 544.5546875, 'Child Process 1550': 430.57421875, 'Child Process 68690': 816.51953125, 'Child Process 68709': 1020.265625, 'Child Process 70109': 734.91796875, 'Child Process 70175': 690.5859375}\n",
      "Top Consumer of Process 767: /tmp/ipykernel_767/2345274766.py:4: size=55.1 MiB, count=3, average=18.4 MiB\n",
      "{'Process 767': 544.5546875, 'Child Process 1550': 431.0859375, 'Child Process 68690': 1093.1171875, 'Child Process 68709': 1020.265625, 'Child Process 70109': 686.2265625, 'Child Process 70175': 799.63671875}\n",
      "Top Consumer of Process 767: /tmp/ipykernel_767/2345274766.py:4: size=55.1 MiB, count=3, average=18.4 MiB\n",
      "{'Process 767': 544.57421875, 'Child Process 1550': 431.78515625, 'Child Process 68690': 880.5234375, 'Child Process 70109': 754.76171875, 'Child Process 70175': 939.453125, 'Child Process 72386': 691.01953125}\n",
      "Top Consumer of Process 767: /tmp/ipykernel_767/2345274766.py:4: size=55.1 MiB, count=3, average=18.4 MiB\n",
      "{'Process 767': 544.58203125, 'Child Process 1550': 431.9453125, 'Child Process 70109': 802.55078125, 'Child Process 70175': 897.5625, 'Child Process 72386': 771.38671875, 'Child Process 73116': 702.87109375}\n",
      "Top Consumer of Process 767: /tmp/ipykernel_767/2345274766.py:4: size=55.1 MiB, count=3, average=18.4 MiB\n",
      "{'Process 767': 544.58984375, 'Child Process 1550': 432.3359375, 'Child Process 72386': 952.1875, 'Child Process 73116': 1143.3125, 'Child Process 73828': 1432.6640625, 'Child Process 74387': 612.203125}\n",
      "Top Consumer of Process 767: /tmp/ipykernel_767/2345274766.py:4: size=55.1 MiB, count=3, average=18.4 MiB\n",
      "{'Process 767': 544.59375, 'Child Process 1550': 432.59765625, 'Child Process 72386': 869.62890625, 'Child Process 73116': 1208.58203125, 'Child Process 73828': 757.6953125, 'Child Process 74387': 925.13671875}\n",
      "Top Consumer of Process 767: /tmp/ipykernel_767/2345274766.py:4: size=55.1 MiB, count=3, average=18.4 MiB\n",
      "{'Process 767': 544.59375, 'Child Process 1550': 433.109375, 'Child Process 72386': 822.68359375, 'Child Process 73116': 1149.453125, 'Child Process 73828': 845.484375, 'Child Process 74387': 937.25390625}\n",
      "Top Consumer of Process 767: /tmp/ipykernel_767/2345274766.py:4: size=55.1 MiB, count=3, average=18.4 MiB\n",
      "{'Process 767': 544.6015625, 'Child Process 1550': 433.578125, 'Child Process 73116': 1241.484375, 'Child Process 73828': 803.70703125, 'Child Process 74387': 807.2265625, 'Child Process 76389': 834.47265625}\n",
      "Top Consumer of Process 767: /tmp/ipykernel_767/2345274766.py:4: size=55.1 MiB, count=3, average=18.4 MiB\n",
      "{'Process 767': 544.60546875, 'Child Process 1550': 433.8515625, 'Child Process 74387': 914.3046875, 'Child Process 76389': 790.9296875, 'Child Process 77410': 720.06640625, 'Child Process 77559': 706.05859375}\n",
      "Top Consumer of Process 767: /tmp/ipykernel_767/2345274766.py:4: size=55.1 MiB, count=3, average=18.4 MiB\n",
      "{'Process 767': 544.6171875, 'Child Process 1550': 434.0, 'Child Process 76389': 896.25390625, 'Child Process 77410': 783.96484375, 'Child Process 77559': 814.60546875, 'Child Process 78206': 799.6484375}\n",
      "Top Consumer of Process 767: /tmp/ipykernel_767/2345274766.py:4: size=55.1 MiB, count=3, average=18.4 MiB\n",
      "{'Process 767': 544.6171875, 'Child Process 1550': 434.5078125, 'Child Process 76389': 897.12890625, 'Child Process 77410': 820.0, 'Child Process 77559': 963.24609375, 'Child Process 78206': 793.3984375}\n",
      "Top Consumer of Process 767: /tmp/ipykernel_767/2345274766.py:4: size=55.1 MiB, count=3, average=18.4 MiB\n",
      "{'Process 767': 544.6171875, 'Child Process 1550': 435.01953125, 'Child Process 76389': 895.3125, 'Child Process 77410': 856.9140625, 'Child Process 77559': 1533.30078125, 'Child Process 78206': 754.13671875}\n",
      "Top Consumer of Process 767: /tmp/ipykernel_767/2345274766.py:4: size=55.1 MiB, count=3, average=18.4 MiB\n",
      "{'Process 767': 544.62890625, 'Child Process 1550': 435.8125, 'Child Process 78206': 907.51171875, 'Child Process 80957': 1096.30078125, 'Child Process 81276': 1014.39453125, 'Child Process 81419': 649.34375}\n",
      "Top Consumer of Process 767: /tmp/ipykernel_767/2345274766.py:4: size=55.1 MiB, count=3, average=18.4 MiB\n",
      "{'Process 767': 544.63671875, 'Child Process 1550': 435.95703125, 'Child Process 80957': 965.90625, 'Child Process 81276': 867.859375, 'Child Process 81419': 777.4140625, 'Child Process 82289': 614.76953125}\n",
      "Top Consumer of Process 767: /tmp/ipykernel_767/2345274766.py:4: size=55.1 MiB, count=3, average=18.4 MiB\n",
      "{'Process 767': 544.63671875, 'Child Process 1550': 436.2109375, 'Child Process 80957': 920.98828125, 'Child Process 81276': 1670.90234375, 'Child Process 81419': 808.55859375, 'Child Process 82289': 820.84375}\n",
      "Top Consumer of Process 767: /tmp/ipykernel_767/2345274766.py:4: size=55.1 MiB, count=3, average=18.4 MiB\n",
      "{'Process 767': 544.63671875, 'Child Process 1550': 444.76953125, 'Child Process 80957': 921.15625, 'Child Process 81276': 815.0625, 'Child Process 81419': 760.04296875, 'Child Process 82289': 790.578125}\n",
      "Top Consumer of Process 767: /tmp/ipykernel_767/2345274766.py:4: size=55.1 MiB, count=3, average=18.4 MiB\n",
      "{'Process 767': 544.640625, 'Child Process 1550': 444.94921875, 'Child Process 81276': 815.63671875, 'Child Process 81419': 855.52734375, 'Child Process 82289': 880.28125, 'Child Process 85008': 685.73828125}\n",
      "Top Consumer of Process 767: /tmp/ipykernel_767/2345274766.py:4: size=55.1 MiB, count=3, average=18.4 MiB\n",
      "{'Process 767': 544.64453125, 'Child Process 1550': 445.703125, 'Child Process 85008': 745.35546875, 'Child Process 85348': 840.03515625, 'Child Process 85448': 785.6484375, 'Child Process 86250': 489.9296875}\n",
      "Top Consumer of Process 767: /tmp/ipykernel_767/2345274766.py:4: size=55.1 MiB, count=3, average=18.4 MiB\n",
      "{'Process 767': 544.64453125, 'Child Process 1550': 445.71484375, 'Child Process 85008': 767.29296875, 'Child Process 85348': 992.16796875, 'Child Process 85448': 848.0390625, 'Child Process 86250': 812.25}\n",
      "Top Consumer of Process 767: /tmp/ipykernel_767/2345274766.py:4: size=55.1 MiB, count=3, average=18.4 MiB\n",
      "{'Process 767': 544.64453125, 'Child Process 1550': 446.22265625, 'Child Process 85008': 802.9296875, 'Child Process 85348': 808.5625, 'Child Process 85448': 756.703125, 'Child Process 86250': 787.34765625}\n",
      "Top Consumer of Process 767: /tmp/ipykernel_767/2345274766.py:4: size=55.1 MiB, count=3, average=18.4 MiB\n",
      "{'Process 767': 544.64453125, 'Child Process 1550': 446.4765625, 'Child Process 85008': 1028.96484375, 'Child Process 85348': 866.21875, 'Child Process 85448': 828.21875, 'Child Process 86250': 885.25}\n",
      "Top Consumer of Process 767: /tmp/ipykernel_767/2345274766.py:4: size=55.1 MiB, count=3, average=18.4 MiB\n",
      "{'Process 767': 544.66015625, 'Child Process 1550': 447.05859375, 'Child Process 86250': 831.078125, 'Child Process 89503': 716.25, 'Child Process 89565': 690.0625, 'Child Process 89628': 619.1953125}\n",
      "Top Consumer of Process 767: /tmp/ipykernel_767/2345274766.py:4: size=55.1 MiB, count=3, average=18.4 MiB\n",
      "{'Process 767': 544.66015625, 'Child Process 1550': 447.05859375, 'Child Process 86250': 1001.7421875, 'Child Process 89503': 747.60546875, 'Child Process 89565': 726.11328125, 'Child Process 89628': 846.94921875}\n",
      "Top Consumer of Process 767: /tmp/ipykernel_767/2345274766.py:4: size=55.1 MiB, count=3, average=18.4 MiB\n",
      "{'Process 767': 544.66796875, 'Child Process 1550': 447.20703125, 'Child Process 89503': 865.59765625, 'Child Process 89565': 788.921875, 'Child Process 89628': 869.8046875, 'Child Process 91031': 683.2421875}\n",
      "Top Consumer of Process 767: /tmp/ipykernel_767/2345274766.py:4: size=55.1 MiB, count=3, average=18.4 MiB\n",
      "{'Process 767': 544.66796875, 'Child Process 1550': 447.4609375, 'Child Process 89503': 821.06640625, 'Child Process 89565': 1083.828125, 'Child Process 89628': 871.53515625, 'Child Process 91031': 695.96875}\n",
      "Top Consumer of Process 767: /tmp/ipykernel_767/2345274766.py:4: size=55.1 MiB, count=3, average=18.4 MiB\n",
      "{'Process 767': 544.66796875, 'Child Process 1550': 447.97265625, 'Child Process 89503': 809.03125, 'Child Process 89565': 905.58203125, 'Child Process 89628': 943.4453125, 'Child Process 91031': 733.8984375}\n",
      "Top Consumer of Process 767: /tmp/ipykernel_767/2345274766.py:4: size=55.1 MiB, count=3, average=18.4 MiB\n",
      "{'Process 767': 544.6875, 'Child Process 1550': 448.1640625, 'Child Process 89503': 917.52734375, 'Child Process 89565': 939.09765625, 'Child Process 91031': 742.2578125, 'Child Process 94197': 633.28515625}\n",
      "Top Consumer of Process 767: /tmp/ipykernel_767/2345274766.py:4: size=55.1 MiB, count=3, average=18.4 MiB\n",
      "{'Process 767': 544.69140625, 'Child Process 1550': 448.69921875, 'Child Process 94197': 767.9765625, 'Child Process 94310': 1421.37890625, 'Child Process 94519': 914.8828125, 'Child Process 94739': 671.7890625}\n",
      "Top Consumer of Process 767: /tmp/ipykernel_767/2345274766.py:4: size=55.1 MiB, count=3, average=18.4 MiB\n",
      "{'Process 767': 544.69140625, 'Child Process 1550': 448.703125, 'Child Process 94197': 857.0859375, 'Child Process 94310': 752.7265625, 'Child Process 94519': 953.6484375, 'Child Process 94739': 735.0234375}\n",
      "Top Consumer of Process 767: /tmp/ipykernel_767/2345274766.py:4: size=55.1 MiB, count=3, average=18.4 MiB\n",
      "{'Process 767': 544.69140625, 'Child Process 1550': 448.9609375, 'Child Process 94197': 878.01171875, 'Child Process 94310': 916.10546875, 'Child Process 94519': 920.6328125, 'Child Process 94739': 773.1953125}\n",
      "Top Consumer of Process 767: /tmp/ipykernel_767/2345274766.py:4: size=55.1 MiB, count=3, average=18.4 MiB\n",
      "{'Process 767': 544.69140625, 'Child Process 1550': 449.72265625, 'Child Process 94197': 817.046875, 'Child Process 94310': 842.41015625, 'Child Process 94519': 1169.9921875, 'Child Process 94739': 929.36328125}\n",
      "Top Consumer of Process 767: /tmp/ipykernel_767/2345274766.py:4: size=55.1 MiB, count=3, average=18.4 MiB\n",
      "{'Process 767': 544.69921875, 'Child Process 1550': 450.15625, 'Child Process 94310': 826.625, 'Child Process 94519': 1333.5625, 'Child Process 94739': 922.5390625, 'Child Process 98120': 610.89453125}\n",
      "Top Consumer of Process 767: /tmp/ipykernel_767/2345274766.py:4: size=55.1 MiB, count=3, average=18.4 MiB\n",
      "{'Process 767': 544.703125, 'Child Process 1550': 450.72265625, 'Child Process 98120': 770.08203125, 'Child Process 98641': 747.10546875, 'Child Process 98948': 1039.1171875, 'Child Process 99033': 558.05078125}\n",
      "Top Consumer of Process 767: /tmp/ipykernel_767/2345274766.py:4: size=55.1 MiB, count=3, average=18.4 MiB\n",
      "{'Process 767': 544.70703125, 'Child Process 1550': 450.72265625, 'Child Process 98120': 792.0703125, 'Child Process 98641': 1591.8203125, 'Child Process 98948': 979.015625, 'Child Process 99033': 992.41796875}\n",
      "Top Consumer of Process 767: /tmp/ipykernel_767/2345274766.py:4: size=55.1 MiB, count=3, average=18.4 MiB\n",
      "{'Process 767': 544.70703125, 'Child Process 1550': 450.98046875, 'Child Process 98120': 761.87109375, 'Child Process 98641': 827.7890625, 'Child Process 98948': 1092.7109375, 'Child Process 99033': 839.40625}\n",
      "Top Consumer of Process 767: /tmp/ipykernel_767/2345274766.py:4: size=55.1 MiB, count=3, average=18.4 MiB\n"
     ]
    }
   ],
   "source": [
    "songs_data_full = process_songs()"
   ]
  },
  {
   "cell_type": "code",
   "execution_count": null,
   "id": "9c6cdc28",
   "metadata": {},
   "outputs": [],
   "source": [
    "songs_data_full.to_csv('data/songs_data_full_2.csv')"
   ]
  },
  {
   "cell_type": "code",
   "execution_count": null,
   "id": "7956c891",
   "metadata": {},
   "outputs": [],
   "source": [
    "songs_data_full.dropna(subset=['Danceability'])\n"
   ]
  }
 ],
 "metadata": {
  "kaggle": {
   "accelerator": "none",
   "dataSources": [
    {
     "datasetId": 5807643,
     "sourceId": 9535353,
     "sourceType": "datasetVersion"
    },
    {
     "datasetId": 5843102,
     "sourceId": 9582418,
     "sourceType": "datasetVersion"
    },
    {
     "modelId": 131168,
     "modelInstanceId": 106837,
     "sourceId": 126903,
     "sourceType": "modelInstanceVersion"
    },
    {
     "modelId": 133887,
     "modelInstanceId": 109590,
     "sourceId": 130047,
     "sourceType": "modelInstanceVersion"
    },
    {
     "isSourceIdPinned": true,
     "modelId": 133915,
     "modelInstanceId": 109618,
     "sourceId": 130080,
     "sourceType": "modelInstanceVersion"
    }
   ],
   "dockerImageVersionId": 30775,
   "isGpuEnabled": false,
   "isInternetEnabled": true,
   "language": "python",
   "sourceType": "notebook"
  },
  "kernelspec": {
   "display_name": ".venv",
   "language": "python",
   "name": "python3"
  },
  "language_info": {
   "codemirror_mode": {
    "name": "ipython",
    "version": 3
   },
   "file_extension": ".py",
   "mimetype": "text/x-python",
   "name": "python",
   "nbconvert_exporter": "python",
   "pygments_lexer": "ipython3",
   "version": "3.10.12"
  }
 },
 "nbformat": 4,
 "nbformat_minor": 5
}
